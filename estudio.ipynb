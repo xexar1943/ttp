{
 "cells": [
  {
   "cell_type": "markdown",
   "metadata": {
    "colab_type": "text",
    "id": "cyHnKzqdeP73"
   },
   "source": [
    "<img src=\"escudo_utfsm.gif\" style=\"float:right;height:100px\">\n",
    "<img src=\"IsotipoDIisocolor.png\" style=\"float:left;height:100px\">\n",
    "<center>\n",
    "    <h1> ILI286 - Computación Científica II</h1>\n",
    "    <h1> estudio ttp</h1> \n",
    "    <h3> Cesar Contreras Zamorano </h3>\n",
    "    <h3> cesar.contrerasz@sansano.usm.cl </h3>\n",
    "    <h3> 2973060-1 </h3>\n",
    "</center>\n",
    "<p>\n",
    "<center>Diciembre 2019 - v1.0 </center>\n",
    "</p>\n",
    "\n",
    "---"
   ]
  },
  {
   "cell_type": "code",
   "execution_count": 2,
   "metadata": {},
   "outputs": [],
   "source": [
    "import numpy as np\n",
    "import scipy as sp\n",
    "import imutils\n",
    "import matplotlib.pyplot as plt\n",
    "from matplotlib.image import imread\n",
    "from PIL import Image\n",
    "from numpy import linalg as la\n",
    "import scipy.linalg as spla\n",
    "from ipywidgets import interact, fixed\n",
    "import ipywidgets as widgets\n",
    "import scipy.optimize as optimize"
   ]
  },
  {
   "cell_type": "code",
   "execution_count": 9,
   "metadata": {},
   "outputs": [
    {
     "ename": "NameError",
     "evalue": "name 'sol_s0' is not defined",
     "output_type": "error",
     "traceback": [
      "\u001b[1;31m---------------------------------------------------------------------------\u001b[0m",
      "\u001b[1;31mNameError\u001b[0m                                 Traceback (most recent call last)",
      "\u001b[1;32m<ipython-input-9-86118fbc6ce6>\u001b[0m in \u001b[0;36m<module>\u001b[1;34m\u001b[0m\n\u001b[0;32m      1\u001b[0m \u001b[0mL\u001b[0m\u001b[1;33m=\u001b[0m\u001b[1;36m20\u001b[0m\u001b[1;33m\u001b[0m\u001b[1;33m\u001b[0m\u001b[0m\n\u001b[0;32m      2\u001b[0m \u001b[0mplt\u001b[0m\u001b[1;33m.\u001b[0m\u001b[0mfigure\u001b[0m\u001b[1;33m(\u001b[0m\u001b[0mfigsize\u001b[0m\u001b[1;33m=\u001b[0m\u001b[1;33m(\u001b[0m\u001b[0mL\u001b[0m\u001b[1;33m,\u001b[0m\u001b[0mL\u001b[0m\u001b[1;33m/\u001b[0m\u001b[1;36m2\u001b[0m\u001b[1;33m)\u001b[0m\u001b[1;33m)\u001b[0m\u001b[1;33m\u001b[0m\u001b[1;33m\u001b[0m\u001b[0m\n\u001b[1;32m----> 3\u001b[1;33m \u001b[0mplt\u001b[0m\u001b[1;33m.\u001b[0m\u001b[0mplot\u001b[0m\u001b[1;33m(\u001b[0m\u001b[0mnp\u001b[0m\u001b[1;33m.\u001b[0m\u001b[0mlinspace\u001b[0m\u001b[1;33m(\u001b[0m\u001b[1;36m0\u001b[0m\u001b[1;33m,\u001b[0m \u001b[1;36m1\u001b[0m\u001b[1;33m,\u001b[0m \u001b[1;36m31\u001b[0m\u001b[1;33m)\u001b[0m\u001b[1;33m,\u001b[0m\u001b[0msol_s0\u001b[0m\u001b[1;33m[\u001b[0m\u001b[1;33m:\u001b[0m\u001b[1;33m,\u001b[0m\u001b[1;36m0\u001b[0m\u001b[1;33m]\u001b[0m\u001b[1;33m,\u001b[0m\u001b[1;34m'-'\u001b[0m\u001b[1;33m)\u001b[0m\u001b[1;33m\u001b[0m\u001b[1;33m\u001b[0m\u001b[0m\n\u001b[0m\u001b[0;32m      4\u001b[0m \u001b[1;31m#plt.plot(np.arange(0, 1, h),sol_s0[:,0],'-')\u001b[0m\u001b[1;33m\u001b[0m\u001b[1;33m\u001b[0m\u001b[1;33m\u001b[0m\u001b[0m\n\u001b[0;32m      5\u001b[0m \u001b[0mplt\u001b[0m\u001b[1;33m.\u001b[0m\u001b[0mshow\u001b[0m\u001b[1;33m(\u001b[0m\u001b[1;33m)\u001b[0m\u001b[1;33m\u001b[0m\u001b[1;33m\u001b[0m\u001b[0m\n",
      "\u001b[1;31mNameError\u001b[0m: name 'sol_s0' is not defined"
     ]
    },
    {
     "data": {
      "text/plain": [
       "<Figure size 1440x720 with 0 Axes>"
      ]
     },
     "metadata": {},
     "output_type": "display_data"
    }
   ],
   "source": [
    "L=20\n",
    "plt.figure(figsize=(L,L/2))\n",
    "plt.plot(np.linspace(0, 1, 31),sol_s0[:,0],'-')\n",
    "#plt.plot(np.arange(0, 1, h),sol_s0[:,0],'-')\n",
    "plt.show()"
   ]
  },
  {
   "cell_type": "markdown",
   "metadata": {
    "colab_type": "text",
    "id": "wosjMLgZeP79"
   },
   "source": [
    "## EJERCICIOS 3"
   ]
  },
  {
   "cell_type": "markdown",
   "metadata": {},
   "source": [
    "### 3.1\n",
    "\n",
    "<img src=\"3.1.png\">\n",
    "\n",
    "***DESAROLLO:***\n",
    "\n",
    "**3.1.a)**\n",
    "\n",
    "<img src=\"3.1.a.png\">\n",
    "\n",
    "**3.1.b)**\n",
    "\n",
    "<img src=\"3.1.b.png\">\n",
    "\n",
    "**3.1.c)**\n",
    "\n",
    "<img src=\"3.1.c.png\">\n",
    "\n",
    "**3.1.d)**\n",
    "\n",
    "<img src=\"3.1.d.png\">"
   ]
  },
  {
   "cell_type": "code",
   "execution_count": 47,
   "metadata": {},
   "outputs": [],
   "source": [
    "# Forward Euler Method para 1 valor de t, por tanto la iteracion se hace fuera del metodo.\n",
    "def euler_ode(y,t,f,h):\n",
    "    return y+h*f(t,y)\n",
    "\n",
    "# Runge-Kutta of Second order\n",
    "def RK2_ode(y,t,f,h):\n",
    "    k1=y+h/2.0*f(t,y) #or euler_ode(y,t,f,h)\n",
    "    return y+h*f(t+h/2.0,k1)\n",
    "    # k1=h*f(t,y)\n",
    "    # return y+h*f(t+h/2.0,y+k1/2.0)\n",
    "\n",
    "# Runge-Kutta \n",
    "def RK4_ode(y,t,f,h):\n",
    "    k1=f(t,y)\n",
    "    k2=f(t+h/2.0,y+(h/2.0)*k1)\n",
    "    k3=f(t+h/2.0,y+(h/2.0)*k2)\n",
    "    k4=f(t+h,y+h*k3)\n",
    "    return y+(h/6.0)*(k1+2.0*k2+2.0*k3+k4)\n",
    "\n",
    "def bisect(f, a, b, tol=1e-8):\n",
    "    verbose = False\n",
    "    fa = f(a)\n",
    "    fb = f(b)\n",
    "    i = 0\n",
    "    # Just checking if the sign is not negative => not root  necessarily \n",
    "    if np.sign(f(a)*f(b)) >= 0:\n",
    "        print('f(a)f(b)<0 not satisfied!')\n",
    "        return None\n",
    "  \n",
    "    #Printing the evolution of the computation of the root\n",
    "    if verbose: print(' i |     a     |     c     |     b     |     fa    |     fc     |     fb     |   b-a')\n",
    "    if verbose: print('----------------------------------------------------------------------------------------')\n",
    "    \n",
    "    while(b-a)/2 > tol:\n",
    "        c = (a+b)/2.\n",
    "        fc = f(c)\n",
    "        if verbose: print('%2d | %.7f | %.7f | %.7f | %.7f | %.7f | %.7f | %.7f' %\n",
    "              (i+1, a, c, b, fa, fc, fb, b-a))\n",
    "        # Did we find the root?\n",
    "        if fc == 0:\n",
    "            if verbose: print('f(c)==0')\n",
    "            break\n",
    "        elif np.sign(fa*fc) < 0:\n",
    "            b = c\n",
    "            fb = fc\n",
    "        else:\n",
    "            a = c\n",
    "            fa = fc\n",
    "        i += 1\n",
    "        \n",
    "    xc = (a+b)/2.\n",
    "    return xc\n",
    "\n",
    "def sec(func, alphaR, alphaL):\n",
    "    return (func(alphaR)*alphaL-func(alphaL)*alphaR)/(func(alphaR)-func(alphaL))\n",
    "\n",
    "#este codigo funciona bajo dos premisas\n",
    "def solve_edo(h, f, y0, T_l, T_r, solver='euler'):\n",
    "    #generamos los diferentes valores de t y agregamos el valor final porque arange no considera el final del intervalo\n",
    "    t_times = np.arange(T_l, T_r, h)\n",
    "    t_times = np.append(t_times, T_r)\n",
    "    #t_times = np.linspace(T_l, T_r, 4)\n",
    "    #generamos una arreglo para guardar nuestras soluciones\n",
    "    y_output = np.zeros([t_times.size,np.size(y0)])\n",
    "    #guardamos la solucion inicial\n",
    "    y_output[0,:] = y0\n",
    "    for i in range(1,t_times.size):\n",
    "        if solver=='euler':\n",
    "            y_output[i,:]=euler_ode(y_output[i-1,:],t_times[i-1],f,h)\n",
    "            #y_output[i]=euler_ode(y_output[i-1],t_times[i-1],f,h)\n",
    "        elif solver=='RK2':\n",
    "            y_output[i]=RK2_ode(y_output[i-1],t_times[i-1],f,h)\n",
    "        else:\n",
    "            y_output[i]=RK4_ode(y_output[i-1],t_times[i-1],f,h)\n",
    "    return y_output"
   ]
  },
  {
   "cell_type": "code",
   "execution_count": 54,
   "metadata": {
    "scrolled": false
   },
   "outputs": [
    {
     "name": "stdout",
     "output_type": "stream",
     "text": [
      "---- 3.1.a: ---- \n",
      "Los valores propios relacionados al problema son:\n",
      " [-1. -4.]\n",
      "\n",
      "\n",
      "---- 3.1.b: ---- \n",
      "valor con s=0:\n",
      " [[ 1.          0.        ]\n",
      " [ 1.         -1.33333333]\n",
      " [ 0.55555556 -0.44444444]\n",
      " [ 0.40740741 -0.44444444]]\n",
      "Por lo tanto en w(0,1)=0.4074074074074074 y F(0)=y(1)-w(0,1)=-0.4074074074074074\n",
      "\n",
      "\n",
      "---- 3.1.c: ---- \n",
      "valor con s=-5:\n",
      " [[ 1.00000000e+00 -5.00000000e+00]\n",
      " [-6.66666667e-01  2.00000000e+00]\n",
      " [ 1.11022302e-16 -4.44444444e-01]\n",
      " [-1.48148148e-01  2.96296296e-01]]\n",
      "Por lo tanto en w(-5,1)=-0.14814814814814808 y F(-5)=y(1)-w(-5,1)=0.14814814814814808\n",
      "\n",
      "\n",
      "---- 3.1.d: ---- \n",
      "Solucion con biseccion: -3.6666666623204947\n",
      "Solucion con secante: -3.6666666666666665\n",
      "\n",
      "\n",
      "---- 3.1.e: ----: \n",
      "valor con s=-3.6666666666666665:\n",
      " [[ 1.00000000e+00 -3.66666667e+00]\n",
      " [-2.22222222e-01  1.11111111e+00]\n",
      " [ 1.48148148e-01 -4.44444444e-01]\n",
      " [-8.32667268e-17  9.87654321e-02]]\n",
      "Por lo tanto en w(-3.6666666666666665,1)=-8.326672684688674e-17 y F(-5)=y(1)-w(-5,1)=8.326672684688674e-17\n",
      "\n",
      "\n"
     ]
    }
   ],
   "source": [
    "#definimos nuestra funcion vectorial, esta cambiará segun el problema\n",
    "def my_fun(t,y):\n",
    "    y1, y2 = y[0], y[1]\n",
    "    return np.array([y2, -4*y1 - 5*y2])\n",
    "\n",
    "def my_fun_jacobian():\n",
    "    J=[[0,1],[-4,-5]]\n",
    "    lambs,vs= la.eig(J)\n",
    "    return lambs\n",
    "#datos del problema\n",
    "h = 1/3\n",
    "\n",
    "#3.1.a\n",
    "print(\"---- 3.1.a: ---- \\nLos valores propios relacionados al problema son:\\n {0}\".format(my_fun_jacobian()))\n",
    "print(\"\\n\")\n",
    "\n",
    "#3.1.b\n",
    "#dado que y0=[1, s] pero para la pregunta 1.b, s=0 tenemos\n",
    "y0 = np.array([1, 0])\n",
    "sol_s0 = solve_edo(h, my_fun, y0, T_l=0, T_r = 1, solver='euler')\n",
    "print(\"---- 3.1.b: ---- \\nvalor con s=0:\\n {0}\".format(sol_s0))\n",
    "print(\"Por lo tanto en w(0,1)={0} y F(0)=y(1)-w(0,1)={1}\".format(sol_s0[-1,0],-sol_s0[-1,0]))\n",
    "print(\"\\n\")\n",
    "\n",
    "#3.1.c\n",
    "#dado que y0=[1, s] pero para la pregunta 1.b, s=-5 tenemos\n",
    "y0 = np.asarray([1, -5])\n",
    "sol_s5 = solve_edo(h, my_fun, y0, T_l=0, T_r = 1, solver='euler')\n",
    "print(\"---- 3.1.c: ---- \\nvalor con s=-5:\\n {0}\".format(sol_s5))\n",
    "print(\"Por lo tanto en w(-5,1)={0} y F(-5)=y(1)-w(-5,1)={1}\".format(sol_s5[-1,0],-sol_s5[-1,0]))\n",
    "print(\"\\n\")\n",
    "\n",
    "#funcion F(s) = y(1) - w(s,1)\n",
    "def F(s):\n",
    "    y0=[1, s]\n",
    "    return solve_edo(1/3, my_fun, y0, T_l=0, T_r = 1, solver='euler')[-1,0]\n",
    "\n",
    "#3.1.d\n",
    "#calcularemos tanto con secante como con biseccion\n",
    "print(\"---- 3.1.d: ---- \")\n",
    "s_opt_bisec = bisect(F, -5, 0, tol=1e-8)\n",
    "print(\"Solucion con biseccion: {0}\".format(s_opt_bisec))\n",
    "s_opt_sec = sec(F, 0, -5)\n",
    "print(\"Solucion con secante: {0}\".format(s_opt_sec))\n",
    "print(\"\\n\")\n",
    "\n",
    "#3.1.e\n",
    "s_opt = s_opt_sec\n",
    "y0 = np.asarray([1, s_opt])\n",
    "sol_s_opt = solve_edo(h, my_fun, y0, T_l=0, T_r = 1, solver='euler')\n",
    "print(\"---- 3.1.e: ----: \\nvalor con s={0}:\\n {1}\".format(s_opt, sol_s_opt))\n",
    "print(\"Por lo tanto en w({0},1)={1} y F(-5)=y(1)-w(-5,1)={2}\".format(s_opt, sol_s_opt[-1,0],-sol_s_opt[-1,0]))\n",
    "print(\"\\n\")"
   ]
  },
  {
   "cell_type": "markdown",
   "metadata": {},
   "source": [
    "### 3.5\n",
    "\n",
    "<img src=\"3.5.png\">\n",
    "\n",
    "***DESAROLLO:***\n",
    "\n",
    "**3.5.a)**\n",
    "\n",
    "<img src=\"3.5.a.png\">\n",
    "\n",
    "**3.5.b)**\n",
    "\n",
    "<img src=\"3.5.b.png\">\n",
    "\n",
    "**3.5.c)**\n",
    "\n",
    "<img src=\"3.5.c.png\">\n",
    "\n",
    "**3.5.d)**\n",
    "\n",
    "<img src=\"3.5.d.png\">"
   ]
  },
  {
   "cell_type": "markdown",
   "metadata": {},
   "source": [
    "### 3.10\n",
    "\n",
    "<img src=\"3.10.png\">\n",
    "\n",
    "***DESAROLLO:***\n",
    "\n",
    "**3.10**\n",
    "\n",
    "<img src=\"3.10.a.png\">"
   ]
  },
  {
   "cell_type": "markdown",
   "metadata": {},
   "source": [
    "### 3.13\n",
    "\n",
    "<img src=\"3.13.png\">\n",
    "\n",
    "***DESAROLLO:***\n",
    "\n",
    "**3.13**\n",
    "\n",
    "<img src=\"3.13.a.png\">"
   ]
  },
  {
   "cell_type": "markdown",
   "metadata": {},
   "source": [
    "### 3.19\n",
    "\n",
    "<img src=\"3.19.png\">\n",
    "\n",
    "***DESAROLLO:***\n",
    "\n",
    "**3.19**\n",
    "\n",
    "<img src=\"3.19.a.png\">"
   ]
  },
  {
   "cell_type": "markdown",
   "metadata": {},
   "source": [
    "### 3.23\n",
    "\n",
    "<img src=\"3.23.png\">\n",
    "\n",
    "***DESAROLLO:***\n",
    "\n",
    "**3.23**\n",
    "\n",
    "<img src=\"3.23.a.png\">"
   ]
  },
  {
   "cell_type": "markdown",
   "metadata": {},
   "source": [
    "### 3.28\n",
    "\n",
    "<img src=\"3.28.png\">\n",
    "\n",
    "***DESAROLLO:***\n",
    "\n",
    "**3.28**\n",
    "\n",
    "<img src=\"3.28.a.png\">"
   ]
  },
  {
   "cell_type": "markdown",
   "metadata": {},
   "source": [
    "### 3.29\n",
    "\n",
    "<img src=\"3.29.png\">\n",
    "\n",
    "***DESAROLLO:***\n",
    "\n",
    "**3.29**\n",
    "\n",
    "<img src=\"3.29.a.png\">"
   ]
  },
  {
   "cell_type": "code",
   "execution_count": 92,
   "metadata": {},
   "outputs": [],
   "source": [
    "def my_fun(t,y):\n",
    "    y1, y2 = y[0], y[1]\n",
    "    return np.array([y2, -2*y1 - 2*y2])\n",
    "\n",
    "#este codigo funciona bajo dos premisas\n",
    "def solve_edo(h, f, y0, T_l, T_r, solver='euler'):\n",
    "    #generamos los diferentes valores de t y agregamos el valor final porque arange no considera el final del intervalo\n",
    "    t_times = np.arange(T_l, T_r, h)\n",
    "    t_times = np.append(t_times, T_r)\n",
    "    #t_times = np.linspace(T_l, T_r, 4)\n",
    "    #generamos una arreglo para guardar nuestras soluciones\n",
    "    y_output = np.zeros([t_times.size,np.size(y0)])\n",
    "    #guardamos la solucion inicial\n",
    "    y_output[0,:] = y0\n",
    "    for i in range(1,t_times.size):\n",
    "        if solver=='euler':\n",
    "            y_output[i,:]=euler_ode(y_output[i-1,:],t_times[i-1],f,h)\n",
    "            #y_output[i]=euler_ode(y_output[i-1],t_times[i-1],f,h)\n",
    "        elif solver=='RK2':\n",
    "            y_output[i]=RK2_ode(y_output[i-1],t_times[i-1],f,h)\n",
    "        else:\n",
    "            y_output[i]=RK4_ode(y_output[i-1],t_times[i-1],f,h)\n",
    "    return y_output"
   ]
  },
  {
   "cell_type": "code",
   "execution_count": 94,
   "metadata": {},
   "outputs": [
    {
     "name": "stdout",
     "output_type": "stream",
     "text": [
      "[-1.+1.j -1.-1.j]\n"
     ]
    }
   ],
   "source": [
    "def my_fun_jacobian():\n",
    "    J=[[0,1],[-2,-2]]\n",
    "    lambs,vs= la.eig(J)\n",
    "    return lambs\n",
    "print(my_fun_jacobian())"
   ]
  },
  {
   "cell_type": "code",
   "execution_count": 91,
   "metadata": {
    "scrolled": false
   },
   "outputs": [
    {
     "data": {
      "image/png": "[encoded data removed]",
      "text/plain": [
       "<Figure size 1440x720 with 1 Axes>"
      ]
     },
     "metadata": {
      "needs_background": "light"
     },
     "output_type": "display_data"
    }
   ],
   "source": [
    "#datos del problema\n",
    "h = 0.1\n",
    "\n",
    "#3.29.b\n",
    "#dado que y0=[1, s] pero para la pregunta 1.b, s=0 tenemos\n",
    "y0 = np.array([0, 1])\n",
    "T_l, T_r = 0, 100\n",
    "sol_ = solve_edo(h, my_fun, y0, T_l, T_r, solver='euler')\n",
    "#print(\"---- 3.1.b: ---- \\n solucion es {0}\".format(sol_))\n",
    "\n",
    "L=20\n",
    "plt.figure(figsize=(L,L/2))\n",
    "\n",
    "plt.plot(np.arange(T_l, T_r+h, h), sol_[:,0],'-')\n",
    "#plt.plot(np.arange(0, 1, h),sol_s0[:,0],'-')\n",
    "plt.grid()\n",
    "plt.show()"
   ]
  },
  {
   "cell_type": "code",
   "execution_count": 1,
   "metadata": {},
   "outputs": [
    {
     "ename": "NameError",
     "evalue": "name 'np' is not defined",
     "output_type": "error",
     "traceback": [
      "\u001b[1;31m---------------------------------------------------------------------------\u001b[0m",
      "\u001b[1;31mNameError\u001b[0m                                 Traceback (most recent call last)",
      "\u001b[1;32m<ipython-input-1-e567b4ae120f>\u001b[0m in \u001b[0;36m<module>\u001b[1;34m\u001b[0m\n\u001b[0;32m     29\u001b[0m     \u001b[1;32mreturn\u001b[0m \u001b[0mnp\u001b[0m\u001b[1;33m.\u001b[0m\u001b[0mdiag\u001b[0m\u001b[1;33m(\u001b[0m\u001b[0mR\u001b[0m\u001b[1;33m)\u001b[0m\u001b[1;33m,\u001b[0m \u001b[0mQ\u001b[0m\u001b[1;33m\u001b[0m\u001b[1;33m\u001b[0m\u001b[0m\n\u001b[0;32m     30\u001b[0m \u001b[1;33m\u001b[0m\u001b[0m\n\u001b[1;32m---> 31\u001b[1;33m \u001b[0mmatrix\u001b[0m \u001b[1;33m=\u001b[0m \u001b[0mnp\u001b[0m\u001b[1;33m.\u001b[0m\u001b[0marray\u001b[0m\u001b[1;33m(\u001b[0m\u001b[1;33m[\u001b[0m\u001b[1;33m[\u001b[0m\u001b[1;33m-\u001b[0m\u001b[1;36m2\u001b[0m\u001b[1;33m,\u001b[0m \u001b[1;33m-\u001b[0m\u001b[1;36m2\u001b[0m\u001b[1;33m]\u001b[0m\u001b[1;33m,\u001b[0m\u001b[1;33m[\u001b[0m\u001b[1;36m0\u001b[0m\u001b[1;33m,\u001b[0m \u001b[1;36m1\u001b[0m\u001b[1;33m]\u001b[0m\u001b[1;33m]\u001b[0m\u001b[1;33m)\u001b[0m\u001b[1;33m\u001b[0m\u001b[1;33m\u001b[0m\u001b[0m\n\u001b[0m\u001b[0;32m     32\u001b[0m \u001b[0mprint\u001b[0m\u001b[1;33m(\u001b[0m\u001b[0mmatrix\u001b[0m\u001b[1;33m)\u001b[0m\u001b[1;33m\u001b[0m\u001b[1;33m\u001b[0m\u001b[0m\n\u001b[0;32m     33\u001b[0m \u001b[1;32mdef\u001b[0m \u001b[0mgenerate_matrix\u001b[0m\u001b[1;33m(\u001b[0m\u001b[0meig_values\u001b[0m\u001b[1;33m)\u001b[0m\u001b[1;33m:\u001b[0m\u001b[1;33m\u001b[0m\u001b[1;33m\u001b[0m\u001b[0m\n",
      "\u001b[1;31mNameError\u001b[0m: name 'np' is not defined"
     ]
    }
   ],
   "source": [
    "def power_iteration(A, x, k, verbose=False):\n",
    "    \"\"\"\n",
    "    Program 12.1 Power iteration\n",
    "    Computes dominant eigenvector of square matrix\n",
    "    Input: matrix A, initial (nonzero) vector x, number of steps k\n",
    "    Output: dominant eigenvalue lam, eigenvector u\n",
    "    \"\"\"\n",
    "    if verbose: print(\"Power Iteration Method\\n%s\"%('='*80))\n",
    "    for j in range(k):\n",
    "        u = x/np.linalg.norm(x)\n",
    "        x = np.dot(A, u)\n",
    "        lam = np.dot(u, x) #not really necessary to compute it at each iteration\n",
    "        if verbose: print(\"k=%d, lambda=%+.3f, u=%s\"%(j,lam,str(u.T)))\n",
    "    u = x/np.linalg.norm(x)\n",
    "    if verbose: print(\"k=%d, lambda=%+.3f, u=%s\\n\"%(j+1,lam,str(u.T)))\n",
    "    return (lam, u)    \n",
    "\n",
    "#ref: http://mlwiki.org/index.php/Power_Iteration#Orthogonal_Iteration \n",
    "def normalized_simultaneous_power_iteration(A, k, it):\n",
    "    #generacion de vectores aleatorios\n",
    "    n, m = np.shape(A)\n",
    "    Q = np.random.rand(n, k)\n",
    "    #factorizacion QR para obtener el vector Q ortonormal\n",
    "    Q, _ = np.linalg.qr(Q)\n",
    "    Q_prev = Q\n",
    "    for i in range(it):\n",
    "        Z = A.dot(Q)\n",
    "        Q, R = np.linalg.qr(Z)\n",
    "    return np.diag(R), Q\n",
    "\n",
    "matrix = np.array([[-2, -2],[0, 1]])\n",
    "print(matrix)\n",
    "def generate_matrix(eig_values):\n",
    "    n = len(eig_values)\n",
    "    Q, _ = np.linalg.qr(np.random.rand(n, n))\n",
    "    L = np.diag(eig_values)\n",
    "    A = np.dot(Q, np.dot(L, Q.T))\n",
    "    return A, Q, eig_values\n",
    "eigenvalues = [2**(i+1) for i in range(12)]\n",
    "A, Q, aux = generate_matrix(eigenvalues)\n",
    "\n",
    "#power_iteration(matrix, [1,1], 1000)\n",
    "#normalized_simultaneous_power_iteration(A, np.shape(A)[0], 1000)\n",
    "normalized_simultaneous_power_iteration(matrix, np.shape(matrix)[0], 1000)\n"
   ]
  },
  {
   "cell_type": "markdown",
   "metadata": {},
   "source": [
    "## EJERCICIOS 4\n",
    "\n",
    "### 4.18"
   ]
  },
  {
   "cell_type": "markdown",
   "metadata": {},
   "source": [
    "# Ecuación de Onda 1D #\n",
    "\n",
    "Consideremos la siguiente EDP hiperbólica, para $ x \\in [a,b] \\ \\ $ y $t \\in [0,T_{max}] \\ \\ $:\n",
    "\\begin{align*}\n",
    "u_{tt}(x,t) &= c^2\\, u_{xx}(x,t) \\\\\n",
    "u(x,0) &= f(x)\\\\\n",
    "u_t(x,0) &= g(x)\\\\\n",
    "u(a,t) &= l(t)\\\\\n",
    "u(b,t) &= r(t)\n",
    "\\end{align*}"
   ]
  },
  {
   "cell_type": "code",
   "execution_count": 60,
   "metadata": {},
   "outputs": [
    {
     "ename": "SyntaxError",
     "evalue": "unexpected EOF while parsing (<ipython-input-60-e07354f30ffd>, line 2)",
     "output_type": "error",
     "traceback": [
      "\u001b[1;36m  File \u001b[1;32m\"<ipython-input-60-e07354f30ffd>\"\u001b[1;36m, line \u001b[1;32m2\u001b[0m\n\u001b[1;33m    aux[1:-1[\u001b[0m\n\u001b[1;37m             ^\u001b[0m\n\u001b[1;31mSyntaxError\u001b[0m\u001b[1;31m:\u001b[0m unexpected EOF while parsing\n"
     ]
    }
   ],
   "source": [
    "aux = np.array([1,2,3,4,5])\n",
    "aux[1:-1]"
   ]
  },
  {
   "cell_type": "code",
   "execution_count": 82,
   "metadata": {},
   "outputs": [],
   "source": [
    "def wave_dirichlet_4_18(x,f,g,l,r,sigma1,sigma2,dx,dt,N,M):\n",
    "    alpha  = sigma1 - sigma2\n",
    "    beta  = (-2*sigma1) + 2 + dt**2 \n",
    "    gamma = sigma1 + sigma2\n",
    "        \n",
    "    # Creamos nuestra matriz solucion (para todos los tiempos t)\n",
    "    w  = np.zeros((M+1,N))\n",
    "    \n",
    "    # guardamos en nuestra matriz solucion, la condicion inicial\n",
    "    w[0,:]=f\n",
    "        \n",
    "    # construimos la matriz A, que en este caso particular es tridiagonal.\n",
    "    d_row = np.zeros(N-2)\n",
    "    d_col = np.zeros(N-2)\n",
    "    d_row[0], d_row[1] = beta, gamma\n",
    "    d_col[0], d_col[1] = beta, alpha\n",
    "    #toeplitz nos entrega una matriz tridiagonal, no necesariamente simetrica\n",
    "    A=spla.toeplitz(d_row, d_col)\n",
    "    print(A)\n",
    "    \n",
    "    ## para t=1, usamos la aproximacion obtenida de u_t(x, 0)\n",
    "    tmp1=np.zeros(N-2)\n",
    "    tmp2=np.zeros(N-2)\n",
    "    tmp1[0]=w[0,0]\n",
    "    tmp2[-1]=w[0,-1]\n",
    "    w[1,1:-1]=0.5*(np.dot(A,w[0,1:-1])) + dt*g[1:-1] + alpha*tmp1 + gamma*tmp2\n",
    "    \n",
    "    ## para t>1, tenemos todos los valores\n",
    "    for t in range(2,M+1):\n",
    "        tmp1[0]=l(dt*(t-1))\n",
    "        tmp2[-1]=r(dt*(t-1))\n",
    "        w[t,1:-1]=np.dot(A,w[t-1,1:-1]) - w[t-2,1:-1] + alpha*tmp1 + gamma*tmp2\n",
    "        w[t,0]=l(dt*t)\n",
    "        w[t,-1]=r(dt*t)\n",
    "    return w\n",
    "\n",
    "def plot(us,i=0):\n",
    "    plt.plot(x,us[i])\n",
    "    plt.ylim(-0.11,0.11)\n",
    "    plt.title('Tiempo: '+str(i*dt))\n",
    "    plt.show()\n",
    "\n",
    "#CONDICIONES DE BORDE\n",
    "#esta funcion define la condicion de borde izquierda, dado un determinado t\n",
    "def l(t):\n",
    "    return np.exp(-t) * np.cos(t)\n",
    "\n",
    "#esta funcion define la condicion de borde derecha, dado un determinado t\n",
    "def r(t):\n",
    "    return np.exp(-t) * np.cos(np.pi - t)\n",
    "\n",
    "# Recordar que debemos tener dx y dt, que cumplan la condicion CFL:\n",
    "#  if c dt/dx<=1 => stability\n",
    "#  else (c dt/dx>1)  => instability. \n",
    "N_x=100\n",
    "N_t=5000\n",
    "TMAX = 100\n",
    "\n",
    "x = np.linspace(0, np.pi, N_x)\n",
    "t = np.linspace(0, TMAX, N_t)\n",
    "\n",
    "## CONDICIONES INICIALES, notar que son vectores, no funciones.\n",
    "# u(x,0)=f(x), para nuestro problema, es cos(x)\n",
    "f = np.cos(x)\n",
    "# u_t(x,0)=f(x)\n",
    "g = np.sin(x) - np.cos(x)\n",
    "\n",
    "\n",
    "x = np.linspace(0, np.pi, N_x)\n",
    "t = np.linspace(0, TMAX, N_t)\n",
    "dx = x[1]-x[0]\n",
    "dt = t[1]-t[0]\n",
    "\n",
    "#valores para sigma\n",
    "sigma1 = (dt/dx)**2\n",
    "sigma2 = (dt**2)/dx"
   ]
  },
  {
   "cell_type": "code",
   "execution_count": 83,
   "metadata": {},
   "outputs": [
    {
     "name": "stdout",
     "output_type": "stream",
     "text": [
      "[[1.20564315 0.38476839 0.         ... 0.         0.         0.        ]\n",
      " [0.40998862 1.20564315 0.38476839 ... 0.         0.         0.        ]\n",
      " [0.         0.40998862 1.20564315 ... 0.         0.         0.        ]\n",
      " ...\n",
      " [0.         0.         0.         ... 1.20564315 0.38476839 0.        ]\n",
      " [0.         0.         0.         ... 0.40998862 1.20564315 0.38476839]\n",
      " [0.         0.         0.         ... 0.         0.40998862 1.20564315]]\n"
     ]
    },
    {
     "data": {
      "application/vnd.jupyter.widget-view+json": {
       "model_id": "6697388327474d2caf440d5d2db3084b",
       "version_major": 2,
       "version_minor": 0
      },
      "text/plain": [
       "interactive(children=(IntSlider(value=0, description='i', max=5000), Output()), _dom_classes=('widget-interact…"
      ]
     },
     "metadata": {},
     "output_type": "display_data"
    },
    {
     "data": {
      "text/plain": [
       "<function __main__.plot(us, i=0)>"
      ]
     },
     "execution_count": 83,
     "metadata": {},
     "output_type": "execute_result"
    }
   ],
   "source": [
    "us1 = wave_dirichlet_4_18(x, f, g, l, r, sigma1, sigma2, dx, dt, N_x, N_t)\n",
    "dp = 1\n",
    "widgets.interact(plot,us=widgets.fixed(us1),i=(0,N_t,dp))"
   ]
  },
  {
   "cell_type": "code",
   "execution_count": 52,
   "metadata": {},
   "outputs": [
    {
     "name": "stdout",
     "output_type": "stream",
     "text": [
      "sigma**2 =  0.397378503857824\n",
      "sigma2**2 =  0.012610115034487305\n",
      "[[1.20564315 0.40998862 0.         ... 0.         0.         0.        ]\n",
      " [0.38476839 1.20564315 0.40998862 ... 0.         0.         0.        ]\n",
      " [0.         0.38476839 1.20564315 ... 0.         0.         0.        ]\n",
      " ...\n",
      " [0.         0.         0.         ... 1.20564315 0.40998862 0.        ]\n",
      " [0.         0.         0.         ... 0.38476839 1.20564315 0.40998862]\n",
      " [0.         0.         0.         ... 0.         0.38476839 1.20564315]]\n",
      "[[ 1.00000000e+00  9.99496542e-01  9.97986676e-01 ... -9.97986676e-01\n",
      "  -9.99496542e-01 -1.00000000e+00]\n",
      " [ 0.00000000e+00  9.80124621e-01  9.79266324e-01 ... -9.76779610e-01\n",
      "  -9.78880638e-01  0.00000000e+00]\n",
      " [ 9.60012921e-01  9.53054668e-01  9.60511923e-01 ... -9.55637968e-01\n",
      "  -9.50112484e-01 -9.60012921e-01]\n",
      " ...\n",
      " [ 3.23361302e-44 -8.60082160e-03  1.90761715e-02 ... -9.83211274e-05\n",
      "  -1.13586685e-05 -3.23361302e-44]\n",
      " [ 3.20789172e-44  8.42067163e-03  1.67624618e-02 ...  1.35741744e-03\n",
      "  -4.24673255e-05 -3.20789172e-44]\n",
      " [ 3.18066267e-44  2.56255652e-02  1.90793630e-02 ...  2.10576995e-03\n",
      "   4.82449551e-04 -3.18066267e-44]]\n"
     ]
    },
    {
     "data": {
      "application/vnd.jupyter.widget-view+json": {
       "model_id": "524e6b21c3624bfe89b41d7feb4b619e",
       "version_major": 2,
       "version_minor": 0
      },
      "text/plain": [
       "interactive(children=(IntSlider(value=0, description='i', max=5000), Output()), _dom_classes=('widget-interact…"
      ]
     },
     "metadata": {},
     "output_type": "display_data"
    },
    {
     "data": {
      "text/plain": [
       "<function __main__.plot(us, i=0)>"
      ]
     },
     "execution_count": 52,
     "metadata": {},
     "output_type": "execute_result"
    }
   ],
   "source": [
    "def cuatrodiesiocho(x, f, g, l, r, dx, dt, N, M):\n",
    "    sigma1 = dt**2 / dx**2\n",
    "    sigma2 = dt**2 / dx\n",
    "    print('sigma**2 = ', sigma1)\n",
    "    print('sigma2**2 = ', sigma2)\n",
    "       \n",
    "    # The approximation for all time-steps\n",
    "    w = np.zeros((M+1, N))\n",
    "   \n",
    "    # Initial condition\n",
    "    w[0] = f\n",
    "   \n",
    "    # Building A\n",
    "    d = np.zeros(N-2)\n",
    "    d[0] = 2 - 2*sigma1 + dt**2\n",
    "    d[1] = sigma1 - sigma2\n",
    "   \n",
    "    c = np.zeros(N-2)\n",
    "    c[1] = sigma1 + sigma2\n",
    "   \n",
    "    A = spla.toeplitz(d,c)\n",
    "    print(A)\n",
    "    # First step\n",
    "    tmp1 = np.zeros(N-2)\n",
    "    tmp2 = np.zeros(N-2)\n",
    "    tmp1[0] = w[0,0]\n",
    "    tmp2[-1] = w[0,-1]\n",
    "    w[1,1:-1] = 0.5*np.dot(A, w[0,1:-1]) + 0.5*tmp1*(sigma1-sigma2) + 0.5*tmp2*(sigma1+sigma2) + dt*g[1:-1]\n",
    "   \n",
    "    # All the rest of the steps\n",
    "    for t in range(2, M+1):\n",
    "        tmp1[0] = l(dt*t)\n",
    "        tmp2[-1] = r(dt*t)\n",
    "        w[t,1:-1] = np.dot(A,w[t-1,1:-1]) - w[t-2,1:-1] + tmp1*(sigma1-sigma2) + tmp2*(sigma1+sigma2)\n",
    "        w[t,0] = l(dt*t)\n",
    "        w[t,-1] = r(dt*t)\n",
    "   \n",
    "    return w\n",
    " \n",
    "def l(t):\n",
    "    return np.exp(-t)*np.cos(t)\n",
    " \n",
    "def r(t):\n",
    "    return np.exp(-t)*np.cos(np.pi-t)\n",
    " \n",
    "def plot(us, i=0):\n",
    "    plt.plot(x, us[i])\n",
    "    plt.ylim(-1000, 1000)\n",
    "    plt.title('Tiempo: ' + str(i*dt))\n",
    "    plt.grid()\n",
    "    plt.show()\n",
    "    \n",
    "N = 100\n",
    "M = 5000\n",
    "TMAX = 100\n",
    "x = np.linspace(0, np.pi, N)\n",
    "t = np.linspace(0, TMAX, M)\n",
    "dx = x[1] - x[0]\n",
    "dt = t[1] - t[0]\n",
    "f = np.cos(x) # u_x,0\n",
    "g = np.sin(x) - np.cos(x) # ut_x,0\n",
    " \n",
    "us1 = cuatrodiesiocho(x, f, g, l, r, dx, dt, N, M)\n",
    "print(us1)\n",
    "widgets.interact(plot, us = widgets.fixed(us1), i = (0, M, 1))"
   ]
  },
  {
   "cell_type": "markdown",
   "metadata": {
    "colab_type": "text",
    "id": "ZxTtGo5FXNfa"
   },
   "source": [
    "# TAREA 3\n",
    "## Sección 1"
   ]
  },
  {
   "cell_type": "markdown",
   "metadata": {},
   "source": [
    "1. Discretice la ecuación de calor mediante Diferencias Finitas. Para el tiempo, utilice un esquema explícito.\n",
    "\n",
    "**R:**\n",
    "Considerando que deberemos usar un esquema explicito para el tiempo, debemos usar central difference para aproximar las segundas derivadas parciales de las variables espaciales, y forward difference para la variable temporal.\n",
    "\n",
    "Entonces vamos generando el esquema de diferencias finitas:\n",
    "\n",
    "- central difference para segundas derivadas parciales de las variables espaciales\n",
    "$$\n",
    "    u_{xx} = \\frac{u_{x + \\Delta x,y,t} - 2 u_{x,y,t} + u_{x- \\Delta x,y,t}}{\\Delta x^2}\n",
    "$$\n",
    "\n",
    "$$\n",
    "    u_{yy} = \\frac{u_{x,y + \\Delta y,t} - 2 u_{x,y,t} + u_{x,y - \\Delta y,t}}{\\Delta y^2}\n",
    "$$\n",
    "\n",
    "- forward difference para la variable temporal\n",
    "\n",
    "$$\n",
    "    u_{t} = \\frac{u_{x,y,t + \\Delta t} - u_{x, y, t}}{\\Delta t}\n",
    "$$\n",
    "\n",
    "Por lo tanto nuestra ecuacion original:\n",
    "\n",
    "$$\n",
    "    u_t = \\sigma_x\\,u_{xx} + \\sigma_y\\,u_{yy},\n",
    "$$\n",
    "\n",
    "\n",
    "queda discretizada mediante diferencias finitas de la siguiente forma:\n",
    "\n",
    "$$\n",
    "    \\frac{u_{x,y,t + \\Delta t} - u_{x, y, t}}{\\Delta t} = \\sigma_x \\frac{u_{x + \\Delta x,y,t} - 2 u_{x,y,t} + u_{x- \\Delta x,y,t}}{\\Delta x^2} + \\sigma_y \\frac{u_{x,y + \\Delta y,t} - 2 u_{x,y,t} + u_{x,y - \\Delta y,t}}{\\Delta y^2}\n",
    "$$\n",
    "\n",
    "Despejando la variable $u_{x,y,t}$ (que es lo que queremos obtener)tenemos:\n",
    "\n",
    "$$\n",
    "    u_{x,y,t + \\Delta t} - u_{x, y, t} = \n",
    "    \\frac{\\Delta t \\sigma_x}{\\Delta x^2} (u_{x + \\Delta x,y,t} - 2 u_{x,y,t} + u_{x- \\Delta x,y,t}) + \n",
    "    \\frac{\\Delta t \\sigma_y}{\\Delta y^2} (u_{x,y + \\Delta y,t} - 2 u_{x,y,t} + u_{x,y - \\Delta y,t})\n",
    "$$\n",
    "\n",
    "$$\n",
    "    u_{x,y,t + \\Delta t} = u_{x, y, t} + \n",
    "    \\frac{\\Delta t \\sigma_x}{\\Delta x^2} (u_{x + \\Delta x,y,t} - 2 u_{x,y,t} + u_{x- \\Delta x,y,t}) + \n",
    "    \\frac{\\Delta t \\sigma_y}{\\Delta y^2} (u_{x,y + \\Delta y,t} - 2 u_{x,y,t} + u_{x,y - \\Delta y,t})\n",
    "$$\n",
    "\n",
    "En la pregunta 3, podrá ver un stencil de este acercamiento explicito, pero resulta evidente, que en cada paso, contamos con todos los valores necesarios, dados inicialmente por las condiciones de borde iniciales, y luego por las sucesivas iteraciones."
   ]
  },
  {
   "cell_type": "markdown",
   "metadata": {},
   "source": [
    "\n",
    "2. Implemente un algoritmo que encuentre el sector de la imagen que posee los *missing values*, donde la imagen es representada como una matriz de *numpy*. Los *missing values* serán identificados mediante el valor `NaN`. Su algoritmo debe retornar la posición en donde empiezan los *missing values* (coordenada superior izquierda), y el ancho y largo del sector de *missing values*. Considere que los agujeros siempre tendrán forma rectangular."
   ]
  },
  {
   "cell_type": "code",
   "execution_count": 2,
   "metadata": {},
   "outputs": [],
   "source": [
    "'''\n",
    "Input:\n",
    "image - (array) matrix form of image\n",
    "Output:\n",
    "start - (array) coordenates of hole's corner\n",
    "width - (int) horizontal size of hole\n",
    "lenght - (int) vertical size of hole\n",
    "'''\n",
    "def findHole(image, verbose=True):\n",
    "    start=(0,0)\n",
    "    width=0\n",
    "    lenght=0\n",
    "    y_len, x_len = np.shape(image)\n",
    "    if verbose: print(\"Dimensiones de la imagen:{0}x{1}\".format(x_len,y_len))\n",
    "    result = np.asarray(np.where(np.isnan(image)))\n",
    "    #dado qeu result contiene un arreglo con las posiciones de los valores nan, de la forma\n",
    "    #result[0] -> coord. y\n",
    "    #result[1] -> coord. x\n",
    "    #entonces podemos ver el ancho y posicion inicial\n",
    "    start  = (np.min(result[1]),np.min(result[0]))\n",
    "    width  = np.max(result[1]) - np.min(result[1])\n",
    "    lenght = np.max(result[0]) - np.min(result[0])\n",
    "    if verbose: print(\"Start:{0} --- Width:{1} --- Length{2}\".format(start, width, lenght))\n",
    "    return start, width, lenght"
   ]
  },
  {
   "cell_type": "markdown",
   "metadata": {},
   "source": [
    "\n",
    "A continuacion se presenta un widget que muestra posicion y caracteristicas del agujero, asi como tambien la imagen con agujero y la imagen original lado a lado. Esto con el proposito de facilitar la prueba de nuestro algoritmo findHole\n",
    "\n"
   ]
  },
  {
   "cell_type": "code",
   "execution_count": 3,
   "metadata": {},
   "outputs": [
    {
     "data": {
      "application/vnd.jupyter.widget-view+json": {
       "model_id": "52a56e3a6208477ea153d59e812754bd",
       "version_major": 2,
       "version_minor": 0
      },
      "text/plain": [
       "interactive(children=(Dropdown(description='path', options=('wave', 'test_images\\\\im1', 'test_images\\\\im2', 't…"
      ]
     },
     "metadata": {},
     "output_type": "display_data"
    },
    {
     "data": {
      "text/plain": [
       "<function __main__.load_image(path)>"
      ]
     },
     "execution_count": 3,
     "metadata": {},
     "output_type": "execute_result"
    }
   ],
   "source": [
    "# For npy files\n",
    "def read_image_with_nan(path):\n",
    "    return np.load(path, allow_pickle=True)\n",
    "# For PNG files\n",
    "def read_image(path):\n",
    "    return imread(path, format='png')\n",
    "\n",
    "def load_image(path):\n",
    "    \n",
    "    #seleccionamos las imagenes a cargar\n",
    "    original = '{0}.png'.format(path)\n",
    "    if path == 'wave': \n",
    "        with_nan = '{0}nan.npy'.format(path)\n",
    "    else:\n",
    "        with_nan = '{0}.npy'.format(path)\n",
    "    \n",
    "    #cargamos las imagenes y las dejamos en memoria.\n",
    "    img_nan = read_image_with_nan(with_nan)\n",
    "    img = read_image(original)\n",
    "    \n",
    "    fig = plt.figure(figsize=(20, 20))\n",
    "    im1 = fig.add_subplot(2,2,1, title=\"With NaN\")\n",
    "    im1.imshow(img_nan, cmap='gray')\n",
    "    im1 = fig.add_subplot(2,2,2, title=\"Original\")\n",
    "    im1.imshow(img, cmap='gray')\n",
    "\n",
    "#imagenes cargadas, se descartó aquellas imagenes que tienen 3 dimensiones.\n",
    "images_list = ['wave','test_images\\im1','test_images\\im2','train_images\\im2','train_images\\im4']\n",
    "\n",
    "interact(load_image,path=images_list)"
   ]
  },
  {
   "cell_type": "markdown",
   "metadata": {},
   "source": [
    "3. Notar que la ecuación de calor está definida para todo $t > 0$. Sin embargo, sabemos que al ser difusiva tendrá un estado estacionario. Implemente un algoritmo que construya los pixeles faltantes de una imagen mediante el método planteado. Su algoritmo debe recibir la imagen a reconstruir, la ubicación de los pixeles faltantes, el valor $\\alpha$ de inicio para la condición inicial, el coeficiente de difusión $\\sigma$ y el *timestep*. Su algoritmo debe iterar hasta que se llegue a un estado aproximadamente estacionario. Indique como estimará si se ha llegado o no a dicho estado y justifique su elección."
   ]
  },
  {
   "cell_type": "markdown",
   "metadata": {},
   "source": [
    "**R:**\n",
    "\n",
    "Como criterio de parada, calcularemos la norma de frobenius de la diferencia  entre la imagen actual y la imagen anterior (es decir para $im_{t} - im_{t+1}$. Cuando esta norma sea cercana a cero (en realidad cuando sea menor a 10e-10), habremos llegado a un estado estacionario, consideraremos que este acercamiento, porque es una medida de la \"distancia\" o \"diferencia\" entre ambas matrices (cada una correspondiente a una imagen, en un tiempo y el siguiente).\n",
    "\n",
    "En este punto, no consideraremos la condicion CFL para esquemas explicitos, dado que nos piden variar dt para poder generar este analisis. Incluiremos la condicion CFL en la seccion 2. Sin embargo se agregaron algunos print, para poder validar la condicion CFL y saber cuando está siendo violada y por ende el algoritmo podría ser inestable."
   ]
  },
  {
   "cell_type": "code",
   "execution_count": 4,
   "metadata": {
    "scrolled": false
   },
   "outputs": [],
   "source": [
    "#codigo basado en los jupyter notebook del ramo. Puesto en las referencias.\n",
    "\n",
    "# This is the 2D version of Explicit Finite Differences\n",
    "def evolve2(u_new, u_old, sigmax, sigmay, dt, dx2, dy2):\n",
    "    u_new[1:-1, 1:-1]  = u_old[1:-1, 1:-1] \n",
    "    u_new[1:-1, 1:-1] += sigmax * dt * (u_old[2:, 1:-1] - 2*u_old[1:-1, 1:-1] + u_old[:-2, 1:-1]) / dx2 \n",
    "    u_new[1:-1, 1:-1] += sigmay * dt * (u_old[1:-1, 2:] - 2*u_old[1:-1, 1:-1] + u_old[1:-1, :-2]) / dy2\n",
    "    return u_new\n",
    "\n",
    "####################################################\n",
    "# MAIN 2D-PARABOLIC FUNCTION SOLVER\n",
    "####################################################\n",
    "def solver2(u0, sigmax, sigmay, Nx=100, Ny=100, dt=1, verbose=True):\n",
    "    dx = 1./Nx\n",
    "    dy = 1./Ny\n",
    "    dx2 = dx**2\n",
    "    dy2 = dy**2\n",
    "    max_num_steps = 10000\n",
    "    \n",
    "    # comprobamos que la condicion CFL\n",
    "    #dt_ideal = 1.0*dx2*dy2 / ( 2*dx*dy*(dx2+dy2) )\n",
    "    #dt_ideal = 1.0*dx2*dy2 / ( 2*(sigmax*dx2)+(sigmay*dy2) )\n",
    "    cfl = ((sigmax*dt)/dx**2) + ((sigmay*dt)/dy**2)\n",
    "    #print(\"El valor de dt entregado es: {0} -> cumple con la condicion CFL para sigmax = {1} - sigmay = {2}, que da un dt<= a {3}\".format(dt, sigmax, sigmay, dt_ideal))\n",
    "    if verbose: print(\"--------------\")\n",
    "    if cfl < 0.5:\n",
    "        if verbose: print(\"El valor de CFL es : {0} < 0.5, por tanto el algoritmo es estable para dt={1}\".format(cfl, dt))\n",
    "    if cfl > 0.5:\n",
    "        if verbose: print(\"El valor de CFL es : {0} > 0.5, por tanto el algoritmo es inestable para dt={1}\".format(cfl, dt))\n",
    "    u_aux = u0\n",
    "    u = u_aux\n",
    "    all_sims = np.zeros([10000, Nx, Ny])\n",
    "    # Iterative step\n",
    "    for n in range(max_num_steps): \n",
    "        u = evolve2(u, u_aux, sigmax, sigmay, dt, dx2, dy2)\n",
    "        u_aux = u\n",
    "        all_sims[n,:,:] = u\n",
    "        if la.norm(all_sims[n,:,:]-all_sims[n-1,:,:], 'fro') < 10e-10:\n",
    "            if verbose: print(\"detenido en la iteracion:{0}\".format(n))\n",
    "            return all_sims[:n,:,:]\n",
    "    if verbose: print(\"detenido en la iteracion:{0}\".format(10000))\n",
    "    return all_sims\n",
    "\n",
    "'''\n",
    "Input:\n",
    "image - (array) matrix form of image\n",
    "start - (array) coordenates of hole's corner\n",
    "width - (int) horizontal size of hole\n",
    "lenght - (int) vertical size of hole\n",
    "alpha - (float) A fixed value for initial condition\n",
    "sigmax - (float) First difussion coefficient\n",
    "sigmay - (float) Second difussion coefficient\n",
    "dt - (float) time step\n",
    "Output:\n",
    "newImage - (array) matrix form of reconstructed image\n",
    "'''\n",
    "def fillHole(image, start, width, lenght, alpha, sigmax, sigmay, dt, verbose=True):\n",
    "    newImage=image\n",
    "    if verbose: print(\"Coordenadas X:{0}-{1} \\nCoordenadas Y:{2}-{3}\".format(start[0],start[0]+width, start[1],start[1]+lenght))\n",
    "    \n",
    "    #seleccionamos la imagen con sus condiciones de borde.\n",
    "    image = image[start[1]-1:start[1]+lenght+2,start[0]-1:start[0]+width+2]\n",
    "    \n",
    "    #reemplazando valores NaN con el valor alpha entregado como parametro\n",
    "    image[1:-1,1:-1] = alpha\n",
    "    \n",
    "    #aplicamos el solver\n",
    "    Nx, Ny = np.shape(image)\n",
    "    image = solver2(image, sigmax, sigmay, Nx, Ny, dt, verbose)\n",
    "    \n",
    "    #reemplazamos la aproximacion obtenida en la imagen original\n",
    "    newImage[start[1]-1:start[1]+lenght+2,start[0]-1:start[0]+width+2] = image[-1,:,:]\n",
    "    return newImage"
   ]
  },
  {
   "cell_type": "markdown",
   "metadata": {},
   "source": [
    "4. Evalúe su implementación con los valores de $\\sigma_x = \\sigma_y = 1$ y $\\alpha = 0$. Comente en función de los resultados obtenidos."
   ]
  },
  {
   "cell_type": "code",
   "execution_count": 5,
   "metadata": {},
   "outputs": [
    {
     "data": {
      "application/vnd.jupyter.widget-view+json": {
       "model_id": "7df51439c89a4c5fb45fefcc81f3e757",
       "version_major": 2,
       "version_minor": 0
      },
      "text/plain": [
       "interactive(children=(Dropdown(description='path', options=('wave', 'test_images\\\\im1', 'test_images\\\\im2', 't…"
      ]
     },
     "metadata": {},
     "output_type": "display_data"
    },
    {
     "data": {
      "text/plain": [
       "<function __main__.aux(path, dt, alpha, sigmax, sigmay)>"
      ]
     },
     "execution_count": 5,
     "metadata": {},
     "output_type": "execute_result"
    }
   ],
   "source": [
    "#cargamos las imagenes y las dejamos en memoria.\n",
    "def aux(path, dt, alpha, sigmax, sigmay):\n",
    "    #seleccionamos las imagenes a cargar\n",
    "    if path == 'wave': \n",
    "        with_nan = '{0}nan.npy'.format(path)\n",
    "    else:\n",
    "        with_nan = '{0}.npy'.format(path)\n",
    "    #cargamos la imagen con nan\n",
    "    img_nan = read_image_with_nan(with_nan)#\n",
    "    #obtenemos los datos del agujero\n",
    "    start, width, lenght = findHole(img_nan, True)#\n",
    "    #aplicamos el llenado del agujero\n",
    "    img_filled = fillHole(img_nan, start, width, lenght, alpha, sigmax, sigmay, dt, True)\n",
    "    \n",
    "    fig = plt.figure(figsize=(20, 20))\n",
    "    im1 = fig.add_subplot(2,2,1, title=\"Filled\")\n",
    "    im1.imshow(img_filled, cmap='gray')\n",
    "    img_nan = read_image_with_nan(with_nan)\n",
    "    im1 = fig.add_subplot(2,2,2, title=\"With NaN\")\n",
    "    im1.imshow(img_nan, cmap='gray')\n",
    "\n",
    "images_list = ['wave','test_images\\im1','test_images\\im2','train_images\\im2','train_images\\im4']\n",
    "list_of_dt = [0.1,0.01,0.001,0.0008,0.0007,0.0006,0.0005,0.0004,0.0003,0.0002,0.0001,0.00001,0.000001]\n",
    "interact(aux,path=images_list, dt=list_of_dt,alpha=fixed(0), sigmax=fixed(1), sigmay=fixed(1))"
   ]
  },
  {
   "cell_type": "markdown",
   "metadata": {},
   "source": [
    "#### Conclusiones:\n",
    "\n",
    "Como principales comentarios podemos destacar lo siguiente:\n",
    "\n",
    "\n",
    "- Como podemos ver la condicion CFL da una medida util para validar si nuestro algoritmo funcionará correctamente o no, dado un cierto dt. Variando los valores de $\\sigma_x$ y $\\sigma_y$ tambien deberemos ajustar el valor $dt$ de manera que se mantenga constante bajo 0.5 la condicion CFL. Podemos notar que para valores muy cercanos a 0.5 tambien funciona, sin embargo que esté bajo el 0.5 asegura el funcionamiento. Esto se debe a que la condicion CFL, asegura un rango de valores de dt, para el cual el algoritmo explicito se mantiene estable, cuando está fuera (es decir, cuando es mayor a 0.5) podemos ver inestabilidad, y por tanto el llenado de la imagen, se comporta de manera inesperada. \n",
    "\n",
    "\n",
    "- Mas aun, para valores de timestep, muy bajos, del orden de 10e-6, tambien tenemos un comportamiento inesperado. Posiblemente este comportamiento se deba a que para valores muy pequeños de timestep, el cambio de la funcion es muy pequeño para un x,y determinado, y por tanto se producen operaciones aritmeticas entre numeros muy parecidos, lo que puede llevar a errores de aproximacion decimal.\n",
    "\n",
    "\n",
    "- Además del analisis anterior, podemos notar que cuandno el solver cae en inestabilidad, completaremos el limite de 10.000 iteraciones, sin llegar a un estado estacionario, dado que el algoritmo no se está comportando de forma correcta, y por tanto no está evolucionando naturalemente en el tiempo, y no podrá llegar a un estado estacionario."
   ]
  },
  {
   "cell_type": "markdown",
   "metadata": {},
   "source": [
    "## Sección 2"
   ]
  },
  {
   "cell_type": "markdown",
   "metadata": {},
   "source": [
    "1. Aplique su algoritmo de la Sección 1 para distintos valores de $\\sigma_x$, $\\sigma_y$, $\\alpha$ y *timestep*. Concluya al respecto. Recuerde considerar la estabilidad en la variación de los valores de $\\sigma_x$ y $\\sigma_y$.\n"
   ]
  },
  {
   "cell_type": "code",
   "execution_count": 9,
   "metadata": {},
   "outputs": [
    {
     "data": {
      "application/vnd.jupyter.widget-view+json": {
       "model_id": "2eb8598194034e9c9221b8040d0e8257",
       "version_major": 2,
       "version_minor": 0
      },
      "text/plain": [
       "interactive(children=(Dropdown(description='path', options=('wave', 'test_images\\\\im1', 'test_images\\\\im2', 't…"
      ]
     },
     "metadata": {},
     "output_type": "display_data"
    },
    {
     "data": {
      "text/plain": [
       "<function __main__.aux(path, dt, alpha, sigmax, sigmay)>"
      ]
     },
     "execution_count": 9,
     "metadata": {},
     "output_type": "execute_result"
    }
   ],
   "source": [
    "images_list = ['wave','test_images\\im1','test_images\\im2','train_images\\im2','train_images\\im4']\n",
    "list_of_dt = [0.1,0.01,0.001,0.0008,0.0007,0.0006,0.0005,0.0004,0.0003,0.0002,0.0001,0.00001,0.000001]\n",
    "#dado que alfa representa un pixel, tiene que tener un valor entre 0 y 1\n",
    "sigmax_ = []\n",
    "\n",
    "interact(aux, path=images_list, dt=list_of_dt, alpha=0.0, sigmax=1.0, sigmay=1.0)"
   ]
  },
  {
   "cell_type": "markdown",
   "metadata": {},
   "source": [
    "#### Conclusiones:\n",
    "\n",
    "Como principales comentarios podemos destacar lo siguiente:\n",
    "\n",
    "\n",
    "- Para mantener una condicion de estabilidad, ante la variacion de cualquier de los valores sigmas, el timestep debe ajustarse.\n",
    "\n",
    "\n",
    "- Para valores de timestep muy bajos, del orden de 10e-6, tambien tenemos un comportamiento inesperado. Esto no parece deberse a inestabilidad, dado que los valores se mantienen por debajo del numero CFL, incluso ajustando los sigmas (para compensar). Posiblemente este comportamiento se deba a que para valores muy pequeños de timestep, el cambio de la funcion es muy pequeño para un x,y determinado, y por tanto se producen operaciones aritmeticas entre numeros muy parecidos, lo que puede llevar a errores de aproximacion decimal.\n",
    "\n",
    "\n",
    "- Además del analisis anterior, podemos notar que cuandno el solver cae en inestabilidad, completaremos el limite de 10.000 iteraciones, sin llegar a un estado estacionario, dado que el algoritmo no se está comportando de forma correcta, y por tanto no está evolucionando naturalemente en el tiempo, y no podrá llegar a un estado estacionario.\n",
    "\n",
    "\n",
    "- Nuestro Alpha (valor inicial) influirá en la cantidad de iteraciones que deberán hacerse para poder llegar a un estado estacionario. Mientras mas parecido a los bordes, mas facil será llegar a un estado estacionario, y por tanto se realizarán menos iteraciones. Sin embargo, este valor no afecta la estabilidad del algoritmo. \n",
    "\n",
    "\n",
    "- El aumento de cualquiera de los dos valores sigmas, aumentará necesariamente el valor de nuestro CFL, y para compensar, necesariamente habrá que disminuir el timestep."
   ]
  },
  {
   "cell_type": "markdown",
   "metadata": {},
   "source": [
    "2. Utilice la *Normal de Frobenius* para medir el error entre la imagen con *inpainting* y la imagen original. Mida el error para distintos valores de $\\sigma_x$, $\\sigma_y$, $\\alpha$ y *timestep*. Concluya al respecto."
   ]
  },
  {
   "cell_type": "markdown",
   "metadata": {},
   "source": [
    "**R:**\n",
    "\n",
    "Considerando que tenemos mas de dos variables que pueden ir variando, para poder analizar consideraré mi eje X como el dt (variacion del tiempo), y el error como el eje y, variando $\\sigma_x$, $\\sigma_y$ y $\\alpha$, en un grafico de error versus dt. Consideraremos una medida del error, como ||image_filled - image_original|| usando la norma de frobenius.\n",
    "\n",
    "Dado que para ciertas combinaciones de valores, el solver caerá en inestabilidad, entonces reemplazaré esos valores NaN con un error grande para poder apreciar las diferencias, y entender los rangos de dt, en el cual el error tiende a cero."
   ]
  },
  {
   "cell_type": "code",
   "execution_count": 6,
   "metadata": {
    "scrolled": false
   },
   "outputs": [
    {
     "data": {
      "application/vnd.jupyter.widget-view+json": {
       "model_id": "ee9b3414e19b46b7badc48a8eef08876",
       "version_major": 2,
       "version_minor": 0
      },
      "text/plain": [
       "interactive(children=(Dropdown(description='path', options=('wave', 'test_images\\\\im1', 'test_images\\\\im2', 't…"
      ]
     },
     "metadata": {},
     "output_type": "display_data"
    },
    {
     "data": {
      "text/plain": [
       "<function __main__.aux2(path, alpha, sigmax, sigmay)>"
      ]
     },
     "execution_count": 6,
     "metadata": {},
     "output_type": "execute_result"
    }
   ],
   "source": [
    "#cargamos las imagenes y las dejamos en memoria.\n",
    "def aux2(path, alpha, sigmax, sigmay):\n",
    "    verbose=False\n",
    "    #seleccionamos las imagenes a cargar\n",
    "    if path == 'wave': \n",
    "        with_nan = '{0}nan.npy'.format(path)\n",
    "    else:\n",
    "        with_nan = '{0}.npy'.format(path)\n",
    "    #cargamos la imagen con nan\n",
    "    img_nan = read_image_with_nan(with_nan)#\n",
    "    img_or = read_image(\"{}.png\".format(path))\n",
    "    #obtenemos los datos del agujero\n",
    "    start, width, lenght = findHole(img_nan, verbose)#\n",
    "    #aplicamos el llenado del agujero\n",
    "    dt = [0.000001, 0.00001, 0.0001, 0.0002, 0.0003, 0.0004, 0.0005, 0.0006, 0.0007, 0.0008, 0.001, 0.01, 0.1]\n",
    "    #dt = np.linspace(0.00001, 0.01, 100)\n",
    "    error = []\n",
    "    for aux in dt:\n",
    "        img_filled = fillHole(img_nan, start, width, lenght, alpha, sigmax, sigmay, aux, verbose)\n",
    "        error_aux = np.linalg.norm(img_or - img_filled, 'fro')\n",
    "        #ajusto artificialmente el error para propositos de analisis\n",
    "        if np.isnan(error_aux): error_aux = 10\n",
    "        error.append(error_aux)\n",
    "        \n",
    "    print(\"dt: {0}\".format(dt))\n",
    "    print(\"error: {0}\".format(error))\n",
    "    plt.plot(dt, error, '-o')\n",
    "    plt.xlabel(\"dt\", fontsize=20)\n",
    "    plt.ylabel(\"error\", fontsize=20)\n",
    "    plt.xlim((min(dt), max(dt)))\n",
    "    plt.xscale('log')\n",
    "    plt.show()\n",
    "\n",
    "images_list = ['wave','test_images\\im1','test_images\\im2','train_images\\im2','train_images\\im4']\n",
    "list_of_dt = [0.0005,0.0004,0.0003,0.0002,0.0001,0.00001,0.000001]\n",
    "sigmax_ = [0.1,0.2,0.3,0.4,0.5,0.6,0.7,0.8,0.9,1.0]\n",
    "sigmay_ = [0.1,0.2,0.3,0.4,0.5,0.6,0.7,0.8,0.9,1.0]\n",
    "#dado que alfa representa un pixel, tiene que tener un valor entre 0 y 1\n",
    "\n",
    "interact(aux2, path=images_list, alpha=0.0, sigmax=sigmax_, sigmay=sigmay_)"
   ]
  },
  {
   "cell_type": "markdown",
   "metadata": {},
   "source": [
    "#### Conclusiones:\n",
    "\n",
    "Como principales comentarios podemos destacar lo siguiente:\n",
    "\n",
    "- Podemos ver que para un cierto rango de dt, el algoritmo puede enncontrar una solucion sin caer en errores tener un alto grande de error, es decir, es capaz de llegar a una buena aproximacion de la imagen original. \n",
    "\n",
    "- Al tener un timestep muy pequeño, tendremos errores de aproximacion decimal al operar sobre valores muy parecido. \n",
    "\n",
    "- Al tener valores muy grandes de timestep tendremos un numero CFL mayor a 0.5 y por tanto el algoritmo será inestable.\n",
    "\n",
    "- El variar cualquier de los sigmas, desplaza el intervalo de dt, en el cual los errores respecto de la imagen original se son pequeños (intervalo en el cual tenemos estabilidad y una buena aproximacion). Un ejercicio interesante, sería mantener constante la cantidad de pasos en el tiempo, para ver como varían los valores."
   ]
  },
  {
   "cell_type": "markdown",
   "metadata": {},
   "source": [
    "3. Proponga un algoritmo que permita *optimizar* el valor de $\\sigma_x$ y $\\sigma_y$ respecto a la norma de Frobenius. Para esta sección elija un valor de $\\alpha$ fijo, en función de los experimentos realizados en las preguntas 1 y 2 de la sección 2. Su algoritmo debe *optimizar* utilizando las imágenes dentro de la carpeta `train_images`. Una vez obtenidos los valores de $\\sigma_x$ y $\\sigma_y$, evalúe el desempeño con las imágenes de `train_images`. Comente y concluya en función de sus resultados."
   ]
  },
  {
   "cell_type": "markdown",
   "metadata": {},
   "source": [
    "**R:**\n",
    "\n",
    "De acuerdo a los valores obtenidos en los experimentos previos, podemos apreciar que para un cierto dt = [ 0.00001, 0.000001] tendremos un algoritmo estable para todas las fotografías (descartadas las que tenian 3d), por tanto elegiremos dt = 0.00001, dado que 0.000001 ya comienza a presentar errores (posiblemente por errores de aproximacion decimal, por operar sobre numeros muy parecidos)\n"
   ]
  },
  {
   "cell_type": "code",
   "execution_count": 39,
   "metadata": {},
   "outputs": [
    {
     "name": "stdout",
     "output_type": "stream",
     "text": [
      "Warning: Maximum number of function evaluations has been exceeded.\n",
      "[0.5 0.5]\n"
     ]
    }
   ],
   "source": [
    "A = np.ones((6,24))\n",
    "A_nan = A\n",
    "A_nan[1:-1,1:-1] = np.nan\n",
    "def norma_frob(sigma):\n",
    "        #cargamos las imagenes en memoria\n",
    "        image = 'wave'\n",
    "        img_nan = read_image_with_nan('{0}nan.npy'.format(image))\n",
    "        img_ori = read_image('{0}.png'.format(image))\n",
    "        #img_nan = A_nan\n",
    "        #img_ori = A\n",
    "        #encontramos posicion del agujero para entregarselo a la funcion que hace el llenado\n",
    "        start, width, lenght = findHole(img_nan, False)\n",
    "        #start = (1,1)\n",
    "        #width = 5\n",
    "        #lenght = 5\n",
    "        #print(\"{0}------{1}_-----{2}\".format(start, width, lenght))\n",
    "        \n",
    "        #elegimos un alpha fijo como un punto medio entre el valor maximo y minimo -> 0.5\n",
    "        alpha   = 1\n",
    "        sigmax  = sigma[0]\n",
    "        sigmay  = sigma[1]\n",
    "        #sabemos que con un valor de dt \n",
    "        dt      = 0.00001\n",
    "        img_filled = fillHole(img_nan, start, lenght,width,alpha, sigmax, sigmay, dt, False)\n",
    "        #calculamos la norma de frobenius\n",
    "        norm_frob = np.linalg.norm(img_ori - img_filled, 'fro')\n",
    "        return norm_frob\n",
    "\n",
    "\n",
    "#seleccionaremos un sigmax y sigmay como initial guess, y dejaremos que la funcion de scipy nos entregue valores de\n",
    "#sigmax y sigmay que minimizen la norma de frobenius entre la imagen ajustada y la imagen original\n",
    "sigmax = .5\n",
    "sigmay = .5\n",
    "#cargamos la image\n",
    "sigma = np.array([sigmax, sigmay])\n",
    "\n",
    "#resultado de optimizacion, solo mostramos si ha tenido exito\n",
    "result = optimize.fmin(norma_frob, sigma)\n",
    "#result = optimize.minimize(norma_frob, sigma, method=\"CG\")\n",
    "\n",
    "print(result)"
   ]
  },
  {
   "cell_type": "code",
   "execution_count": 21,
   "metadata": {},
   "outputs": [
    {
     "name": "stdout",
     "output_type": "stream",
     "text": [
      "[[1. 1. 1. 1. 1. 1.]\n",
      " [1. 0. 0. 0. 0. 1.]\n",
      " [1. 0. 0. 0. 0. 1.]\n",
      " [1. 0. 0. 0. 0. 1.]\n",
      " [1. 0. 0. 0. 0. 1.]\n",
      " [1. 1. 1. 1. 1. 1.]]\n"
     ]
    }
   ],
   "source": [
    "\n",
    "print(A)\n"
   ]
  },
  {
   "cell_type": "markdown",
   "metadata": {},
   "source": [
    "Podemos ver que mi algoritmo tarde mucho en ser ejecutado. La idea original era encontrar sigmax y sigmay optimos para cada imagen y luego obtener un promedio entre todos. Posteriormente se aplicarían en el test image. Esto puede deberse a los siguientes motivos:\n",
    "\n",
    "- A que mi algoritmo itera hasta llegar a un estado estacionario (es decir, para cada sigmax y sigmay, podrá hacer diferente cantidad de pasos en el tiempo (iteraciones) antes de llegar a un estado estacionario y tener un error minimo y por tanto caerá en la inestabilidad segun el algoritmo vaya variando valores para los sigmas.\n",
    "\n",
    "-  Que para los parametros entregados, el estado estacionario tarde mucho en ser alcanzado cada vez, por tanto sigue corriendo.\n",
    "\n",
    "Algunas alternativas habrían sido calcular el dt, dinamicamente, hacer que descarten los valores cuando se caiga en inestabilidad, o bien hacer el mismo ejercicio, con un esquema implicito."
   ]
  },
  {
   "cell_type": "markdown",
   "metadata": {},
   "source": [
    "## Sección 3"
   ]
  },
  {
   "cell_type": "markdown",
   "metadata": {},
   "source": [
    "1. Discretice la ecuación de calor para usarla en este problema, usando un esquema implícito. Incluya una imagen de los stencil explícitos e implícitos y comparelos."
   ]
  },
  {
   "cell_type": "markdown",
   "metadata": {},
   "source": [
    "**R:**\n",
    "Considerando que deberemos usar un esquema implicito para el tiempo, debemos usar central difference para aproximar las segundas derivadas parciales de las variables espaciales, y backward difference para la variable temporal.\n",
    "\n",
    "Entonces vamos generando el esquema de diferencias finitas:\n",
    "\n",
    "- central difference para segundas derivadas parciales de las variables espaciales\n",
    "$$\n",
    "    u_{xx} = \\frac{u_{x + \\Delta x,y,t} - 2 u_{x,y,t} + u_{x- \\Delta x,y,t}}{\\Delta x^2}\n",
    "$$\n",
    "\n",
    "$$\n",
    "    u_{yy} = \\frac{u_{x,y + \\Delta y,t} - 2 u_{x,y,t} + u_{x,y - \\Delta y,t}}{\\Delta y^2}\n",
    "$$\n",
    "\n",
    "- Backward difference para la variable temporal, lo cual nos entregará un esquema implicito:\n",
    "\n",
    "$$\n",
    "    u_{t} = \\frac{u_{x,y,t} - u_{x, y, t - \\Delta t}}{\\Delta t}\n",
    "$$\n",
    "\n",
    "Por lo tanto nuestra ecuacion original:\n",
    "\n",
    "$$\n",
    "    u_t = \\sigma_x\\,u_{xx} + \\sigma_y\\,u_{yy},\n",
    "$$\n",
    "\n",
    "\n",
    "queda discretizada mediante diferencias finitas de la siguiente forma:\n",
    "\n",
    "$$\n",
    "     \\frac{u_{x,y,t} - u_{x, y, t - \\Delta t}}{\\Delta t} = \\sigma_x \\frac{u_{x + \\Delta x,y,t} - 2 u_{x,y,t} + u_{x- \\Delta x,y,t}}{\\Delta x^2} + \\sigma_y \\frac{u_{x,y + \\Delta y,t} - 2 u_{x,y,t} + u_{x,y - \\Delta y,t}}{\\Delta y^2}\n",
    "$$\n",
    "\n",
    "Despejando la variable $u_{x,y,t}$ (que es lo que queremos obtener)tenemos:\n",
    "\n",
    "\n",
    "$$\n",
    "    u_{x,y,t} - u_{x, y, t - \\Delta t} = \n",
    "    \\frac{\\Delta t \\sigma_x}{\\Delta x^2} (u_{x + \\Delta x,y,t} - 2 u_{x,y,t} + u_{x- \\Delta x,y,t}) + \n",
    "    \\frac{\\Delta t \\sigma_y}{\\Delta y^2} (u_{x,y + \\Delta y,t} - 2 u_{x,y,t} + u_{x,y - \\Delta y,t})\n",
    "$$\n",
    "\n",
    "\n",
    "$$\n",
    "    u_{x, y, t - \\Delta t} = u_{x,y,t} -\n",
    "    \\frac{\\Delta t \\sigma_x}{\\Delta x^2} (u_{x + \\Delta x,y,t} - 2 u_{x,y,t} + u_{x- \\Delta x,y,t}) - \n",
    "    \\frac{\\Delta t \\sigma_y}{\\Delta y^2} (u_{x,y + \\Delta y,t} - 2 u_{x,y,t} + u_{x,y - \\Delta y,t})\n",
    "$$\n",
    "\n",
    "\n",
    "Otra forma de ver lo anterior, es verlo en relacion a $t + \\Delta t$, de la siguiente manera (para $n \\leq 0$):\n",
    "\n",
    "\n",
    "$$\n",
    "    u_{x, y, t} = u_{x,y,t + \\Delta t} -\n",
    "    \\frac{\\Delta t \\sigma_x}{\\Delta x^2} (u_{x + \\Delta x,y,t + \\Delta t} - 2 u_{x,y,t + \\Delta t} + u_{x- \\Delta x,y,t + \\Delta t}) - \n",
    "    \\frac{\\Delta t \\sigma_y}{\\Delta y^2} (u_{x,y + \\Delta y,t + \\Delta t} - 2 u_{x,y,t + \\Delta t} + u_{x,y - \\Delta y,t + \\Delta t})\n",
    "$$\n",
    "\n",
    "\n",
    "es decir, tendremos un punto conocido en el tiempo actual, y 5 puntos desconocidos, para los cuales plantearemos el sistema lineal a resolver. De esta manera, en comparacion con una matriz tridiagonal que tenemos para el caso de 1d, ahora tendremos una matriz pentadiagonal.\n",
    "\n",
    "finalmente, consideremos la siguiente equivalencia, a reflejar en nuestro codigo:\n",
    "\n",
    "\n",
    "$$ \n",
    "\\frac{\\Delta t \\sigma_x}{\\Delta x^2} = D_x\n",
    "$$ \n",
    "\n",
    "\n",
    "$$ \n",
    "\\frac{\\Delta t \\sigma_y}{\\Delta y^2} = D_y\n",
    "$$ \n",
    "\n",
    "\n",
    "$$ \n",
    "    (1 + 2 D_x + 2 D_y) = \\lambda\n",
    "$$ \n",
    "\n",
    "Con lo cual nuestra ecuacion quedaría:\n",
    "\n",
    "$$\n",
    "    u_{x, y, t} = \\lambda u_{x,y,t + \\Delta t} - \n",
    "    D_x (u_{x + \\Delta x,y,t + \\Delta t}  + u_{x- \\Delta x,y,t + \\Delta t}) -\n",
    "    D_y (u_{x,y + \\Delta y,t + \\Delta t}  + u_{x,y - \\Delta y,t + \\Delta t})\n",
    "$$\n",
    "\n",
    "\n",
    "\n",
    "Los stencil de cada acercamiento son (los subindices están en forma de i, j, n = x, y, t)\n",
    "\n",
    "- Explicito: el siguiente stencil muestra un esquema de forward differences\n",
    "\n",
    "\n",
    "<img src=\"./stencil_forward.png\" alt=\"drawing\" style=\"width:350px;\"/>\n",
    "\n",
    "\n",
    "- Implicito: el siguiente stencil muestra un esquema de backward differences\n",
    "\n",
    "\n",
    "<img src=\"./stencil_backward.png\" alt=\"drawing\" style=\"width:350px;\"/>\n",
    "\n",
    "A partir de los stencil podemos notar que en el esquema explicito no es necesario resolver un sistema, ya que la incognita es solo una en cada paso. Pero por otro lado en el esquema implicito, tenemos incognitas que están entreladas entre si, por tanto es necesario resolver un sistema cada vez. POr supuesto, de la mano con este costo computacional mayor, tenemos un algoritmo incondicionalmente estable."
   ]
  },
  {
   "cell_type": "markdown",
   "metadata": {},
   "source": [
    "2. Modifique el código desarrollado en la pregunta 3 de la sección anterior para que reconstruya la imagen usando un esquema implícito. "
   ]
  },
  {
   "cell_type": "markdown",
   "metadata": {},
   "source": [
    "Podemos ver del despeje de la formula de diferencias finitas con backward difference, que el resultado será una matriz pentadiagonal, dado esto, la principal dificultad del problema es plantear la matriz para el sistema lineal."
   ]
  },
  {
   "cell_type": "code",
   "execution_count": 8,
   "metadata": {},
   "outputs": [],
   "source": [
    "#codigo basado en los jupyter notebook del ramo. Puesto en las referencias.\n",
    "\n",
    "# This is the 2D version of Explicit Finite Differences\n",
    "def evolve2(u_new, u_old, sigmax, sigmay, dt, dx2, dy2):\n",
    "    u_new[1:-1, 1:-1]  = u_old[1:-1, 1:-1] \n",
    "    u_new[1:-1, 1:-1] += sigmax * dt * (u_old[2:, 1:-1] - 2*u_old[1:-1, 1:-1] + u_old[:-2, 1:-1]) / dx2 \n",
    "    u_new[1:-1, 1:-1] += sigmay * dt * (u_old[1:-1, 2:] - 2*u_old[1:-1, 1:-1] + u_old[1:-1, :-2]) / dy2\n",
    "    return u_new\n",
    "\n",
    "\n",
    "####################################################\n",
    "# MAIN 2D-PARABOLIC FUNCTION SOLVER\n",
    "####################################################\n",
    "def solver_implicit(u0, sigmax, sigmay, Nx=100, Ny=100, dt=1, verbose=True):\n",
    "    dx = 1./Nx\n",
    "    dy = 1./Ny\n",
    "    dx2 = dx**2\n",
    "    dy2 = dy**2 \n",
    "    max_num_steps = 10000\n",
    "    \n",
    "    #creamos estas variables para no estar haciendo estos calculos cada vez\n",
    "    D_x = (dt*sigmax)/dx2\n",
    "    D_y = (dt*sigmay)/dy2\n",
    "    lambd = 1 + 2*D_x + 2*D_y\n",
    "    \n",
    "    #construimos la matriz A\n",
    "    #for j in range((width+2)*(length+2)):\n",
    "    #    i = j%(length+2)\n",
    "    #    k = int(j/length+2)\n",
    "    #    A[j][i+1+(k*lenght+2)] = -D_y\n",
    "    #    A[j][i-1+(k*lenght+2)] = -D_y\n",
    "    #    A[j][i+((k+1)*lenght+2)] = -D_x\n",
    "    #    A[j][i+((k-1)*lenght+2)] = -D_x\n",
    "    #    A[j][j] = lambd\n",
    "    #print(A)\n",
    "    \n",
    "    # comprobamos que la condicion CFL\n",
    "    #dt_ideal = 1.0*dx2*dy2 / ( 2*dx*dy*(dx2+dy2) )\n",
    "    #dt_ideal = 1.0*dx2*dy2 / ( 2*(sigmax*dx2)+(sigmay*dy2) )\n",
    "    cfl = ((sigmax*dt)/dx**2) + ((sigmay*dt)/dy**2)\n",
    "    #print(\"El valor de dt entregado es: {0} -> cumple con la condicion CFL para sigmax = {1} - sigmay = {2}, que da un dt<= a {3}\".format(dt, sigmax, sigmay, dt_ideal))\n",
    "    if verbose: print(\"--------------\")\n",
    "    if cfl < 0.5:\n",
    "        if verbose: print(\"El valor de CFL es : {0} < 0.5, por tanto el algoritmo es estable para dt={1}\".format(cfl, dt))\n",
    "    if cfl > 0.5:\n",
    "        if verbose: print(\"El valor de CFL es : {0} > 0.5, por tanto el algoritmo es inestable para dt={1}\".format(cfl, dt))\n",
    "    u_aux = u0\n",
    "    u = u_aux\n",
    "    all_sims = np.zeros([10000, Nx, Ny])\n",
    "    # Iterative step\n",
    "    for n in range(max_num_steps): \n",
    "        #en este paso deberemos resolver un sistema lineal.\n",
    "        u = evolve2(u, u_aux, sigmax, sigmay, dt, dx2, dy2)\n",
    "        u_aux = u\n",
    "        all_sims[n,:,:] = u\n",
    "        if la.norm(all_sims[n,:,:]-all_sims[n-1,:,:], 'fro') < 10e-10:\n",
    "            if verbose: print(\"detenido en la iteracion:{0}\".format(n))\n",
    "            return all_sims[:n,:,:]\n",
    "    return all_sims\n",
    "\n",
    "'''\n",
    "Input:\n",
    "image - (array) matrix form of image\n",
    "start - (array) coordenates of hole's corner\n",
    "width - (int) horizontal size of hole\n",
    "lenght - (int) vertical size of hole\n",
    "alpha - (float) A fixed value for initial condition\n",
    "sigmax - (float) Fist difussion coefficient\n",
    "sigmay - (float) Second difussion coefficient\n",
    "dt - (float) time step\n",
    "Output:\n",
    "newImage - (array) matrix form of reconstructed image\n",
    "'''\n",
    "def fillHoleImplicit2(image, start, width, lenght, alpha, sigmax, sigmay, dt, verbose):\n",
    "    newImage=image\n",
    "    if verbose: print(\"Coordenadas X:{0}-{1} \\nCoordenadas Y:{2}-{3}\".format(start[0],start[0]+width, start[1],start[1]+lenght))\n",
    "    \n",
    "    #seleccionamos la imagen con sus condiciones de borde.\n",
    "    image = image[start[1]-1:start[1]+lenght+2,start[0]-1:start[0]+width+2]\n",
    "    \n",
    "    #reemplazando valores NaN con el valor alpha entregado como parametro\n",
    "    image[1:-1,1:-1] = alpha\n",
    "    \n",
    "    #aplicamos el solver\n",
    "    Nx, Ny = np.shape(image)\n",
    "    image = solver_implicit(image, sigmax, sigmay, Nx, Ny, dt, verbose)\n",
    "    #image = solver(image, sigmax, sigmay, Nx, Ny, 10000)\n",
    "    \n",
    "    #reemplazamos la aproximacion obtenida en la imagen original\n",
    "    newImage[start[1]-1:start[1]+lenght+2,start[0]-1:start[0]+width+2] = image[-1,:,:]\n",
    "    return newImage"
   ]
  },
  {
   "cell_type": "code",
   "execution_count": 17,
   "metadata": {},
   "outputs": [],
   "source": [
    "'''\n",
    "Input:\n",
    "image - (array) matrix form of image\n",
    "start - (array) coordenates of hole's corner\n",
    "width - (int) horizontal size of hole\n",
    "lenght - (int) vertical size of hole\n",
    "alpha - (float) A fixed value for initial condition\n",
    "sigmax - (float) Fist difussion coefficient\n",
    "sigmay - (float) Second difussion coefficient\n",
    "dt - (float) time step\n",
    "Output:\n",
    "newImage - (array) matrix form of reconstructed image\n",
    "'''\n",
    "def fillHoleImplicit(image, start, width, lenght, alpha, sigmax, sigmay, dt):\n",
    "    newImage=np.copy(image)\n",
    "    dx = 1/(width+1)\n",
    "    dy = 1/(lenght+1)\n",
    "    a = sigmax*dt/dx**2\n",
    "    b = sigmay*dt/dy**2\n",
    "    \n",
    "    A = np.zeros([(width+2)*(lenght+2), (width+2)*(lenght+2)])\n",
    "    B = np.zeros([(width+2)*(lenght+2),1])\n",
    "    bordes = B.copy()\n",
    "    Breal= B.copy()\n",
    "    \n",
    "    for i in range(start[0],start[0]+lenght):\n",
    "        for k in range(start[1],start[1]+width):\n",
    "            newImage[i][k] = alpha\n",
    "            \n",
    "    for i in range(width+2):\n",
    "        for k in range(lenght+2):\n",
    "            j = k+i*(lenght+2)\n",
    "            B[j] = newImage[start[1]-1+k][start[0]-1+i]\n",
    "            Breal[j] = image[start[1]-1+k][start[0]-1+i]\n",
    "            if i == 0 or i == width+1 or k == 0 or k == lenght+1:\n",
    "                bordes[j] = newImage[start[1]-1+k][start[0]-1+i]\n",
    "\n",
    "    for j in range((width+2)*(lenght+2)):\n",
    "        if(bordes[j] == 0):\n",
    "            i = j%(lenght+2)\n",
    "            k = int(j/(lenght+2))\n",
    "            A[j][i+1+(k*(lenght+2))] = -b \n",
    "            A[j][i-1+(k*(lenght+2))] = -b \n",
    "            A[j][i+(k+1)*(lenght+2)] = -a \n",
    "            A[j][i+(k-1)*(lenght+2)] = -a \n",
    "            A[j][j] = 1 + 2*sigmax*dt/dx**2 + 2*sigmay*dt/dy**2\n",
    "        else:\n",
    "            A[j][j] = 1\n",
    "    \n",
    "    i = 0\n",
    "    tolx = 1e-06\n",
    "    toly = 1e-09\n",
    "    while True:\n",
    "        auxB = B.copy()\n",
    "       \n",
    "        B = np.linalg.solve(A, B)\n",
    "        diff = np.linalg.norm(B - auxB)\n",
    "        i+=1\n",
    "        if np.allclose(auxB, B, tolx, toly):\n",
    "            print(\"Itera \", i)\n",
    "            break\n",
    "    k = 0   \n",
    "    for i in range(start[0],start[0]+lenght):\n",
    "        for j in range(start[1],start[1]+width):\n",
    "            newImage[i][j] = B[k]\n",
    "            k+=1 \n",
    "    return newImage"
   ]
  },
  {
   "cell_type": "code",
   "execution_count": 18,
   "metadata": {},
   "outputs": [
    {
     "data": {
      "application/vnd.jupyter.widget-view+json": {
       "model_id": "31bc6e978f9e466984f73fae5300a6ab",
       "version_major": 2,
       "version_minor": 0
      },
      "text/plain": [
       "interactive(children=(Dropdown(description='path', options=('wave', 'test_images\\\\im1', 'test_images\\\\im2', 't…"
      ]
     },
     "metadata": {},
     "output_type": "display_data"
    },
    {
     "data": {
      "text/plain": [
       "<function __main__.aux(path, dt, alpha, sigmax, sigmay)>"
      ]
     },
     "execution_count": 18,
     "metadata": {},
     "output_type": "execute_result"
    }
   ],
   "source": [
    "#cargamos las imagenes y las dejamos en memoria.\n",
    "def aux(path, dt, alpha, sigmax, sigmay):\n",
    "    #seleccionamos las imagenes a cargar\n",
    "    if path == 'wave': \n",
    "        with_nan = '{0}nan.npy'.format(path)\n",
    "    else:\n",
    "        with_nan = '{0}.npy'.format(path)\n",
    "    #cargamos la imagen con nan\n",
    "    img_nan = read_image_with_nan(with_nan)#\n",
    "    #obtenemos los datos del agujero\n",
    "    start, width, lenght = findHole(img_nan, True)#\n",
    "    #aplicamos el llenado del agujero\n",
    "    img_filled = fillHoleImplicit(img_nan, start, width, lenght, alpha, sigmax, sigmay, dt)\n",
    "    \n",
    "    fig = plt.figure(figsize=(20, 20))\n",
    "    im1 = fig.add_subplot(2,2,1, title=\"Filled\")\n",
    "    im1.imshow(img_filled, cmap='gray')\n",
    "    img_nan = read_image_with_nan(with_nan)\n",
    "    im1 = fig.add_subplot(2,2,2, title=\"With NaN\")\n",
    "    im1.imshow(img_nan, cmap='gray')\n",
    "\n",
    "images_list = ['wave','test_images\\im1','test_images\\im2','train_images\\im2','train_images\\im4']\n",
    "list_of_dt = [0.1,0.01,0.001,0.0008,0.0007,0.0006,0.0005,0.0004,0.0003,0.0002,0.0001,0.00001,0.000001]\n",
    "interact(aux,path=images_list, dt=list_of_dt,alpha=fixed(0), sigmax=fixed(1), sigmay=fixed(1))"
   ]
  },
  {
   "cell_type": "markdown",
   "metadata": {},
   "source": [
    "3. Utilice la *Normal de Frobenius* para medir el error entre la imagen con *inpainting* y la imagen original. Mida el error para distintos *timestep*. Concluya en función de los resultados y en comparación con el uso de un método explícito."
   ]
  },
  {
   "cell_type": "markdown",
   "metadata": {},
   "source": [
    "**R:**\n",
    "\n",
    "Considerando que tenemos mas de dos variables que pueden ir variando, para poder analizar consideraré mi eje X como el dt (variacion del tiempo), y el error como el eje y, variando $\\sigma_x$, $\\sigma_y$ y $\\alpha$, en un grafico de error versus dt. Consideraremos una medida del error, como ||image_filled - image_original|| usando la norma de frobenius.\n",
    "\n",
    "Dado que nuestro esquema es implicito, no tendremos condicion CFL, que cumplir para asegurar estabilidad, podremos probar para cualquier dt, asi que no consideraremos ningun reemplazo en dichos casos."
   ]
  },
  {
   "cell_type": "code",
   "execution_count": 16,
   "metadata": {},
   "outputs": [
    {
     "data": {
      "application/vnd.jupyter.widget-view+json": {
       "model_id": "7774e2bc3bba454e879d63b7d9b41b0b",
       "version_major": 2,
       "version_minor": 0
      },
      "text/plain": [
       "interactive(children=(Dropdown(description='path', options=('wave', 'test_images\\\\im1', 'test_images\\\\im2', 't…"
      ]
     },
     "metadata": {},
     "output_type": "display_data"
    },
    {
     "data": {
      "text/plain": [
       "<function __main__.aux_implicit(path, alpha, sigmax, sigmay)>"
      ]
     },
     "execution_count": 16,
     "metadata": {},
     "output_type": "execute_result"
    }
   ],
   "source": [
    "#cargamos las imagenes y las dejamos en memoria.\n",
    "def aux_implicit(path, alpha, sigmax, sigmay):\n",
    "    verbose=False\n",
    "    #seleccionamos las imagenes a cargar\n",
    "    if path == 'wave': \n",
    "        with_nan = '{0}nan.npy'.format(path)\n",
    "    else:\n",
    "        with_nan = '{0}.npy'.format(path)\n",
    "    #cargamos la imagen con nan\n",
    "    img_nan = read_image_with_nan(with_nan)#\n",
    "    img_or = read_image(\"{}.png\".format(path))\n",
    "    #obtenemos los datos del agujero\n",
    "    start, width, lenght = findHole(img_nan, verbose)#\n",
    "    #aplicamos el llenado del agujero\n",
    "    dt = [0.000001, 0.00001, 0.0001, 0.0002, 0.0003, 0.0004, 0.0005, 0.0006, 0.0007, 0.0008, 0.001, 0.01, 0.1]\n",
    "    #dt = np.linspace(0.00001, 0.01, 100)\n",
    "    error = []\n",
    "    for aux in dt:\n",
    "        img_filled = fillHoleImplicit(img_nan, start, width, lenght, alpha, sigmax, sigmay, aux, verbose)\n",
    "        error_aux = np.linalg.norm(img_or - img_filled, 'fro')\n",
    "        #ajusto artificialmente el error para propositos de analisis\n",
    "        #if np.isnan(error_aux): error_aux = 10\n",
    "        error.append(error_aux)\n",
    "        \n",
    "    print(\"dt: {0}\".format(dt))\n",
    "    print(\"error: {0}\".format(error))\n",
    "    plt.plot(dt, error, '-o')\n",
    "    plt.xlabel(\"dt\", fontsize=20)\n",
    "    plt.ylabel(\"error\", fontsize=20)\n",
    "    plt.xlim((min(dt), max(dt)))\n",
    "    plt.xscale('log')\n",
    "    plt.show()\n",
    "\n",
    "images_list = ['wave','test_images\\im1','test_images\\im2','train_images\\im2','train_images\\im4']\n",
    "list_of_dt = [0.0005,0.0004,0.0003,0.0002,0.0001,0.00001,0.000001]\n",
    "sigmax_ = [0.1,0.2,0.3,0.4,0.5,0.6,0.7,0.8,0.9,1.0]\n",
    "sigmay_ = [0.1,0.2,0.3,0.4,0.5,0.6,0.7,0.8,0.9,1.0]\n",
    "#dado que alfa representa un pixel, tiene que tener un valor entre 0 y 1\n",
    "\n",
    "interact(aux_implicit, path=images_list, alpha=0.0, sigmax=sigmax_, sigmay=sigmay_)"
   ]
  },
  {
   "cell_type": "markdown",
   "metadata": {},
   "source": []
  },
  {
   "cell_type": "markdown",
   "metadata": {},
   "source": []
  },
  {
   "cell_type": "markdown",
   "metadata": {},
   "source": [
    "# tarea1"
   ]
  },
  {
   "cell_type": "code",
   "execution_count": null,
   "metadata": {},
   "outputs": [],
   "source": []
  },
  {
   "cell_type": "markdown",
   "metadata": {},
   "source": [
    "Consideremos una matriz $A \\in \\mathbb{R}^{n \\times n}$ simétrica cuyos valores propios son $\\lambda_i$ (por simplicidad, consideraremos que también son todos positivos) y sus vectores propios son $\\mathbf{v}_i$, para $i \\in \\{1, 2, \\dots, n\\}$. Considere además que $\\lambda_i > \\lambda_j$, para todo $i < j$, es decir, los valores propios están ordenados. Considere ahora la matriz $A_1$ definida como:\n",
    "\n",
    "$$\n",
    "    A_1 = A - \\lambda_1\\mathbf{v}_1\\,\\mathbf{v}_1^T.\n",
    "$$\n",
    "**1. (5 puntos)** Demuestre que los vectores propios de $A$ también son los vectores propios de $A_1$. ¿Cuáles son los valores propios de $A_1$?\n",
    "\n",
    "Consideremos el hecho de que los valores propios estan ordenados y que estamos operando con matrices simetricas, tomemos el vector propio dominante de A y multipliquemoslo por $A_1$:\n",
    "\n",
    "$A_1 v_{1} = (A − \\lambda_{1} v_{1} v_{1}^{T})v_{1}$\n",
    "\n",
    "$A_1 v_{1} = A v_{1} − \\lambda_{1} v_{1} v_{1}^{T} v_{1}$\n",
    "$A_1 v_{i} = \\lambda_{1} v_{i} − \\lambda_{1} v_{1} v_{1}^{T} v_{1}$\n",
    "\n",
    "Pero sabemos que $v_{1}^{T} v_{1} = 1$, entonces\n",
    "$A_1 v_{i} = \\lambda_{1} v_{1} v_{1}^{T})v_{1}$\n",
    "\n",
    "Por tanto podemos notar que el valor propio asociado a $v_1$ es cero. Por no tanto no es su valor propio dominante como ocurría con A.\n",
    "\n",
    "Ahora consideremos un vector cualquiera v, con v distinto de $v_1$:\n",
    "\n",
    "$A_1 v = (A − \\lambda_{1} v_{1} v_{1}^{T})v$\n",
    "\n",
    "$A_1 v = A v − \\lambda_{1} v_{1} v_{1}^{T} v $\n",
    "\n",
    "$A_1 v = \\lambda v − \\lambda_{1} v_{1} v_{1}^{T} v$\n",
    "\n",
    "Pero sabemos que $v_{1}^{T} v= 0$, entonces\n",
    "$A_1 v = \\lambda v$\n",
    "\n",
    "de esta manera podemos ver que el vector v es vector propio de $A_1$ con valor propio asociado $\\lambda$, por tanto $A_1$ tienen los mismos valores propios y y vectores que A, con excepcion de $\\lambda_1=0$ que implica que el valor dominante de $A_1$ es $\\lambda_2 $ y el vector propio dominante es $v_2$\n",
    "\n",
    "**2. (10 puntos)** El proceso anterior, denominado *Deflation*, puede repetirse iterativamente para construir un algoritmo iterativo que permita encontrar los valores y vectores propios en sucesión. El algoritmo, paso a paso, puede definirse como:\n",
    "\n",
    "1. Se define $A_0 = A$, $\\lambda_0 = 0$ y $\\mathbf{v}_0 = \\mathbf{0}$.\n",
    "2. Para $i \\in \\{1, 2, \\dots, n\\}$\n",
    "    1. Se define $A_i = A_{i-1} - \\lambda_{i-1}\\mathbf{v}_{i-1}\\,\\mathbf{v}_{i-1}^T$.\n",
    "    2. Se encuentra el valor y vector propio dominante de $A_{i}$, denotados por $\\lambda_{i}$ y $\\mathbf{v}_{i}$, respectivamente.\n",
    "3. Se retorna el conjunto $\\{\\lambda_1, \\lambda_2, \\dots, \\lambda_n\\}$ y $\\{ \\mathbf{v}_{1}, \\mathbf{v}_{2}, \\dots, \\mathbf{v}_{n}\\}$.\n",
    "\n",
    "Implemente la función `deflation`, el cual aplicará el algoritmo *Deflation* mediante el uso de *Power Iteration*. Esta función debe recibir como parámetros:\n",
    "* La matriz $A$.\n",
    "* Un *initial guess* $\\mathbf{x}_0$.\n",
    "* Un número de iteraciones.\n",
    "\n",
    "La función debe retornar una lista con los valores propios encontrados y una lista de los vectores propios encontrados.\n"
   ]
  },
  {
   "cell_type": "code",
   "execution_count": 1,
   "metadata": {},
   "outputs": [],
   "source": [
    "'''\n",
    "    Program 12.1 Power iteration\n",
    "    Computes dominant eigenvector of square matrix\n",
    "    Input: matrix A, initial (nonzero) vector x, number of steps k\n",
    "    Output: dominant eigenvalue lam, eigenvector u\n",
    "'''\n",
    "def power_iteration(A, x, k, verbose=False):\n",
    "    if verbose: print(\"Power Iteration Method\\n%s\"%('='*80))\n",
    "    for j in range(k):\n",
    "        u = x/norm(x)\n",
    "        x = np.dot(A, u)\n",
    "        lam = np.dot(u, x) #not really necessary to compute it at each iteration\n",
    "        if verbose: print(\"k=%d, lambda=%+.3f, u=%s\"%(j,lam,str(u.T)))\n",
    "    u = x/norm(x)\n",
    "    if verbose: print(\"k=%d, lambda=%+.3f, u=%s\\n\"%(j+1,lam,str(u.T)))\n",
    "    return lam, u \n",
    "\n",
    "'''\n",
    "Given a list of n real vaues, returns a symmetric matrix whose eigenvalues are the given values.\n",
    "Input:\n",
    "eig_values - (list) list of n real values that will be used as eigenvalues\n",
    "Output: \n",
    "A - (n x n matrix) A symmetric matrix whose eigenvalues equals the values in eig_values list\n",
    "Q - (n x n matrix) An orthonormal matrix whose columns are the eigenvectors\n",
    "eig_values (list) A list with eigenvalues of A. It is the same list given as input.\n",
    "'''\n",
    "def generate_matrix(eig_values):\n",
    "    n = len(eig_values)\n",
    "    Q, _ = np.linalg.qr(np.random.rand(n, n))\n",
    "    L = np.diag(eig_values)\n",
    "    A = np.dot(Q, np.dot(L, Q.T))\n",
    "    return A, Q, eig_values\n",
    "\n",
    "'''\n",
    "Compute all the eigenvalues and eigenvectors using Deflation procedure.\n",
    "Input:\n",
    "A - (n x n matrix) Matrix to compute its eigenvalues and eigenvectors\n",
    "x0 - (array) Initial guess for Power Iteration\n",
    "it - (integer) Number of iteration for Power Iteration.\n",
    "Output:\n",
    "eig_values - (list) A list with the eigenvalues found by the algorithm\n",
    "eig_vectors - (list) A list with the eigenvectors found by the algorithm\n",
    "'''\n",
    "def deflation(A, x0, it):\n",
    "    #valores iniciales\n",
    "    A_i = A\n",
    "    lambd_i = 0\n",
    "    v_i = np.zeros(np.shape(A)[0])\n",
    "    #variables para ir almacenando eigenvalues y eigenvectors\n",
    "    eig_values = []\n",
    "    eig_vectors = []\n",
    "    for a in range(np.shape(A)[0]):\n",
    "        #utilizamos power iteration para \n",
    "        eig_value_, eig_vector_ = power_iteration(A_i, x0, it, verbose=False)\n",
    "        eig_values.append(eig_value_)\n",
    "        eig_vectors.append(eig_vector_)\n",
    "        lambd_i = eig_value_\n",
    "        v_i = eig_vector_\n",
    "        aux = np.outer(np.dot(lambd_i,v_i), np.transpose(v_i))\n",
    "        A_i = A_i - aux\n",
    "    return eig_values, eig_vectors"
   ]
  },
  {
   "cell_type": "markdown",
   "metadata": {},
   "source": [
    "Genere matrices con los siguientes valores propios:\n",
    "* $\\{1, 2, \\dots, 10\\}$.\n",
    "* $\\{2, 2^2, 2^3, \\dots, 2^{12}\\}$.\n",
    "\n",
    "Utilice las matrices generadas para probar su algoritmo. Su tarea será probada con otras matrices, pero puede utilizar estas para verificar la correctitud de su algoritmo."
   ]
  },
  {
   "cell_type": "code",
   "execution_count": 2,
   "metadata": {},
   "outputs": [
    {
     "ename": "NameError",
     "evalue": "name 'np' is not defined",
     "output_type": "error",
     "traceback": [
      "\u001b[1;31m---------------------------------------------------------------------------\u001b[0m",
      "\u001b[1;31mNameError\u001b[0m                                 Traceback (most recent call last)",
      "\u001b[1;32m<ipython-input-2-341f6676fbc6>\u001b[0m in \u001b[0;36m<module>\u001b[1;34m\u001b[0m\n\u001b[0;32m      3\u001b[0m \u001b[1;31m#primer caso\u001b[0m\u001b[1;33m\u001b[0m\u001b[1;33m\u001b[0m\u001b[1;33m\u001b[0m\u001b[0m\n\u001b[0;32m      4\u001b[0m \u001b[0mN\u001b[0m \u001b[1;33m=\u001b[0m \u001b[1;36m10\u001b[0m\u001b[1;33m\u001b[0m\u001b[1;33m\u001b[0m\u001b[0m\n\u001b[1;32m----> 5\u001b[1;33m \u001b[0mx0\u001b[0m \u001b[1;33m=\u001b[0m \u001b[0mnp\u001b[0m\u001b[1;33m.\u001b[0m\u001b[0mones\u001b[0m\u001b[1;33m(\u001b[0m\u001b[0mN\u001b[0m\u001b[1;33m)\u001b[0m\u001b[1;33m\u001b[0m\u001b[1;33m\u001b[0m\u001b[0m\n\u001b[0m\u001b[0;32m      6\u001b[0m \u001b[1;31m#creacion de matriz con valores propios {1, 2, 4, ...., 10}\u001b[0m\u001b[1;33m\u001b[0m\u001b[1;33m\u001b[0m\u001b[1;33m\u001b[0m\u001b[0m\n\u001b[0;32m      7\u001b[0m \u001b[0meigenvalues\u001b[0m \u001b[1;33m=\u001b[0m \u001b[1;33m[\u001b[0m\u001b[0mi\u001b[0m\u001b[1;33m+\u001b[0m\u001b[1;36m1\u001b[0m \u001b[1;32mfor\u001b[0m \u001b[0mi\u001b[0m \u001b[1;32min\u001b[0m \u001b[0mrange\u001b[0m\u001b[1;33m(\u001b[0m\u001b[0mN\u001b[0m\u001b[1;33m)\u001b[0m\u001b[1;33m]\u001b[0m\u001b[1;33m\u001b[0m\u001b[1;33m\u001b[0m\u001b[0m\n",
      "\u001b[1;31mNameError\u001b[0m: name 'np' is not defined"
     ]
    }
   ],
   "source": [
    "it = 1000\n",
    "\n",
    "#primer caso \n",
    "N = 10\n",
    "x0 = np.ones(N)\n",
    "#creacion de matriz con valores propios {1, 2, 4, ...., 10}\n",
    "eigenvalues = [i+1 for i in range(N)]\n",
    "A, Q, aux = generate_matrix(eigenvalues1)\n",
    "#calculo mediante deflation\n",
    "eigenvalues_defl, eigenvectors_defl = deflation(A, x0, it)\n",
    "print(\"Original Eigenvalues: {}\\nEigenvalues Calculated with deflation: {}\\n\".format(eigenvalues, [round(temp,2)for temp in eigenvalues_defl]))\n",
    "\n",
    "#segundo caso\n",
    "N = 12\n",
    "x0 = np.ones(N)\n",
    "#creacion de matriz con valores propios {2^1, 2^2, 2^3, ...., 2^12}\n",
    "eigenvalues = [2**(i+1) for i in range(N)]\n",
    "A, Q, aux = generate_matrix(eigenvalues)\n",
    "#calculo mediante deflation\n",
    "eigenvalues_defl, eigenvectors_defl = deflation(A, x0, it)\n",
    "print(\"Original Eigenvalues: {}\\nEigenvalues Calculated with deflation: {}\\n\".format(eigenvalues, [round(temp,2)for temp in eigenvalues_defl]))"
   ]
  },
  {
   "cell_type": "markdown",
   "metadata": {},
   "source": [
    "**3. (15 puntos)** Implemente el algoritmo *Normalized Simultaneous Iteration* (NSI). Genere matrices de los siguientes tamaños, utilizando la función `generate_matrix`:\n",
    "\n",
    "* $100 \\times 100$.\n",
    "* $1000 \\times 1000$.\n",
    "* $10000 \\times 10000$.\n",
    "* $15000 \\times 15000$.\n",
    "\n",
    "Estime teóricamente cuanta memoria requiere cada uno de los algoritmos. Además, ejecute ambos algoritmos sobre las matrices generadas y mida el tiempo de ejecución. Concluya respecto a los resultados."
   ]
  },
  {
   "cell_type": "code",
   "execution_count": null,
   "metadata": {},
   "outputs": [],
   "source": [
    "#ref: http://mlwiki.org/index.php/Power_Iteration#Orthogonal_Iteration \n",
    "def normalized_simultaneous_power_iteration(A, k, it):\n",
    "    #generacion de vectores aleatorios\n",
    "    n, m = np.shape(A)\n",
    "    Q = np.random.rand(n, k)\n",
    "    #factorizacion QR para obtener el vector Q ortonormal\n",
    "    Q, _ = np.linalg.qr(Q)\n",
    "    Q_prev = Q\n",
    "    for i in range(it):\n",
    "        Z = A.dot(Q)\n",
    "        Q, R = np.linalg.qr(Z)\n",
    "    return np.diag(R), Q\n",
    "\n",
    "it = 100\n",
    "#primer caso \n",
    "N_2 = [100, 1000, 15000]\n",
    "N_ = [10, 100, 200, 300, 400, 500]\n",
    "y_defl = []\n",
    "y_nsi = []\n",
    "print(\"Prueba ejecutada Usando valores propios de la forma 1, 2, 3, ... n \\n para generate_matrix\")\n",
    "#reemplazar por N_2 para probar con los casos originales\n",
    "for N in N_:\n",
    "    print(\"Tiempos de ejecucion para el caso {}x{}\".format(N,N))\n",
    "    x0 = np.ones(N)\n",
    "    #creacion de matriz con valores propios {1, 2, 4, ...., 10}\n",
    "    eigenvalues = [i+1 for i in range(N)]\n",
    "    A, Q, aux = generate_matrix(eigenvalues)\n",
    "    \n",
    "    #calculo mediante deflation\n",
    "    start = time.perf_counter()\n",
    "    eigenvalues_defl, eigenvectors_defl = deflation(A, x0, it)\n",
    "    time_ = time.perf_counter() - start\n",
    "    y_defl.append(time_)\n",
    "    print(\"Con deflation:{}\".format(time_))\n",
    "    \n",
    "    #calculo mediante NSI\n",
    "    start = time.perf_counter()\n",
    "    eigenvalues_nsi, eigenvectors_nsi = normalized_simultaneous_power_iteration(A, N, it)\n",
    "    time_ = time.perf_counter() - start\n",
    "    y_nsi.append(time_)\n",
    "    print(\"Con NSI:{}\\n\".format(time_))"
   ]
  },
  {
   "cell_type": "markdown",
   "metadata": {},
   "source": [
    "## Sección 2: Uso de matrices *Sparse* (60 puntos)\n",
    "\n",
    "Cuando una matriz es de tipo *Sparse*[1], es posible trabajar sobre matrices de mayor tamaño, debido a que se evita el almacenamiento de valores *innecesarios* (en este caso, los ceros).\n",
    "\n",
    "**1. (5 puntos)** Implemente la función `read_sparse_matrix` que reciba la ruta a un archivo de texto plano que contiene una matriz *sparse*, y construya la matriz respectiva utilizando una estructura de datos especializada para matrices *sparse*[2]. El formato del archivo será:\n",
    "* La primera línea del archivo contendrá un solo número `N`, donde `N` indica el tamaño de la matriz (matriz de tamaño `N`$\\times$`N`).\n",
    "* Cada una de las siguientes líneas contiene 3 números separados por espacios, que indicarán las entradas no nulas de la matriz. Si la línea contiene los números `i j a`, esto indica que en la fila `i` y columna `j`, la matriz tiene un coeficiente con valor `a`."
   ]
  },
  {
   "cell_type": "code",
   "execution_count": 4,
   "metadata": {},
   "outputs": [
    {
     "ename": "FileNotFoundError",
     "evalue": "[Errno 2] No such file or directory: 'matrix_10000.txt'",
     "output_type": "error",
     "traceback": [
      "\u001b[1;31m---------------------------------------------------------------------------\u001b[0m",
      "\u001b[1;31mFileNotFoundError\u001b[0m                         Traceback (most recent call last)",
      "\u001b[1;32m<ipython-input-4-d7c45cd8952d>\u001b[0m in \u001b[0;36m<module>\u001b[1;34m\u001b[0m\n\u001b[0;32m     27\u001b[0m     \u001b[1;32mreturn\u001b[0m \u001b[0mcsr_matrix\u001b[0m\u001b[1;33m(\u001b[0m\u001b[1;33m(\u001b[0m\u001b[0mdata\u001b[0m\u001b[1;33m,\u001b[0m \u001b[1;33m(\u001b[0m\u001b[0mrow\u001b[0m\u001b[1;33m,\u001b[0m \u001b[0mcol\u001b[0m\u001b[1;33m)\u001b[0m\u001b[1;33m)\u001b[0m\u001b[1;33m,\u001b[0m \u001b[0mshape\u001b[0m\u001b[1;33m=\u001b[0m\u001b[1;33m(\u001b[0m\u001b[0mN\u001b[0m\u001b[1;33m,\u001b[0m\u001b[0mN\u001b[0m\u001b[1;33m)\u001b[0m\u001b[1;33m)\u001b[0m\u001b[1;33m\u001b[0m\u001b[1;33m\u001b[0m\u001b[0m\n\u001b[0;32m     28\u001b[0m \u001b[1;33m\u001b[0m\u001b[0m\n\u001b[1;32m---> 29\u001b[1;33m \u001b[0mmatrix_10000\u001b[0m \u001b[1;33m=\u001b[0m \u001b[0mread_sparse_matrix\u001b[0m\u001b[1;33m(\u001b[0m\u001b[1;34m\"matrix_10000.txt\"\u001b[0m\u001b[1;33m)\u001b[0m\u001b[1;33m\u001b[0m\u001b[1;33m\u001b[0m\u001b[0m\n\u001b[0m\u001b[0;32m     30\u001b[0m \u001b[0mmatrix_20000\u001b[0m \u001b[1;33m=\u001b[0m \u001b[0mread_sparse_matrix\u001b[0m\u001b[1;33m(\u001b[0m\u001b[1;34m\"matrix_20000.txt\"\u001b[0m\u001b[1;33m)\u001b[0m\u001b[1;33m\u001b[0m\u001b[1;33m\u001b[0m\u001b[0m\n\u001b[0;32m     31\u001b[0m \u001b[0mmatrix_50000\u001b[0m \u001b[1;33m=\u001b[0m \u001b[0mread_sparse_matrix\u001b[0m\u001b[1;33m(\u001b[0m\u001b[1;34m\"matrix_50000.txt\"\u001b[0m\u001b[1;33m)\u001b[0m\u001b[1;33m\u001b[0m\u001b[1;33m\u001b[0m\u001b[0m\n",
      "\u001b[1;32m<ipython-input-4-d7c45cd8952d>\u001b[0m in \u001b[0;36mread_sparse_matrix\u001b[1;34m(path)\u001b[0m\n\u001b[0;32m      8\u001b[0m \u001b[1;32mdef\u001b[0m \u001b[0mread_sparse_matrix\u001b[0m\u001b[1;33m(\u001b[0m\u001b[0mpath\u001b[0m\u001b[1;33m)\u001b[0m\u001b[1;33m:\u001b[0m\u001b[1;33m\u001b[0m\u001b[1;33m\u001b[0m\u001b[0m\n\u001b[0;32m      9\u001b[0m     \u001b[0mverbose\u001b[0m \u001b[1;33m=\u001b[0m \u001b[1;32mFalse\u001b[0m\u001b[1;33m\u001b[0m\u001b[1;33m\u001b[0m\u001b[0m\n\u001b[1;32m---> 10\u001b[1;33m     \u001b[0mf\u001b[0m \u001b[1;33m=\u001b[0m \u001b[0mopen\u001b[0m\u001b[1;33m(\u001b[0m\u001b[0mpath\u001b[0m\u001b[1;33m,\u001b[0m \u001b[1;34m\"r\"\u001b[0m\u001b[1;33m)\u001b[0m\u001b[1;33m\u001b[0m\u001b[1;33m\u001b[0m\u001b[0m\n\u001b[0m\u001b[0;32m     11\u001b[0m     \u001b[1;31m#obtenemos el tamaño de la matriz\u001b[0m\u001b[1;33m\u001b[0m\u001b[1;33m\u001b[0m\u001b[1;33m\u001b[0m\u001b[0m\n\u001b[0;32m     12\u001b[0m     \u001b[0mN\u001b[0m \u001b[1;33m=\u001b[0m \u001b[0mint\u001b[0m\u001b[1;33m(\u001b[0m\u001b[0mf\u001b[0m\u001b[1;33m.\u001b[0m\u001b[0mreadline\u001b[0m\u001b[1;33m(\u001b[0m\u001b[1;33m)\u001b[0m\u001b[1;33m)\u001b[0m\u001b[1;33m\u001b[0m\u001b[1;33m\u001b[0m\u001b[0m\n",
      "\u001b[1;31mFileNotFoundError\u001b[0m: [Errno 2] No such file or directory: 'matrix_10000.txt'"
     ]
    }
   ],
   "source": [
    "'''\n",
    "Read a file in the specified format to build a Sparse Matrix.\n",
    "Input:\n",
    "path - (string) A path to a file.\n",
    "Output:\n",
    "A - (N x N matrix) The matrix in a sparse format.\n",
    "'''\n",
    "def read_sparse_matrix(path):\n",
    "    verbose = False\n",
    "    f = open(path, \"r\")\n",
    "    #obtenemos el tamaño de la matriz\n",
    "    N = int(f.readline())\n",
    "    row = []\n",
    "    col = []\n",
    "    data = []\n",
    "    for line in f:\n",
    "        #leemos los 3 elementos de cada linea\n",
    "        row_, col_, data_ = line.split()\n",
    "        if verbose: print(\"A_({},{}) = {}\".format(row_, col_, data_))\n",
    "        #generamos un vector de indices fila\n",
    "        row.append(int(row_))\n",
    "        #generamos un vector de indices columna\n",
    "        col.append(int(col_))\n",
    "        #generamos un vector de datos != de cero para los indices definidos en row y col\n",
    "        data.append(float(data_))\n",
    "    #instanciamos nuestra matriz sparse en base a los indices y datos definidos en row, col y data\n",
    "    return csr_matrix((data, (row, col)), shape=(N,N))\n",
    "\n",
    "matrix_10000 = read_sparse_matrix(\"matrix_10000.txt\")\n",
    "matrix_20000 = read_sparse_matrix(\"matrix_20000.txt\")\n",
    "matrix_50000 = read_sparse_matrix(\"matrix_50000.txt\")"
   ]
  },
  {
   "cell_type": "markdown",
   "metadata": {},
   "source": [
    "**2. (25 puntos)** Suponga ahora que la matriz simétrica $A$ en el algoritmo de *Deflation* es *Sparse*. Notar que luego de calcular el valor y vector propio dominante de $A$, el resultado obtenido para calcular $A_1$:\n",
    "\n",
    "$$\n",
    "    A_1 = A - \\lambda_1\\mathbf{v}_1\\,\\mathbf{v}_1^T,\n",
    "$$\n",
    "\n",
    "**no** necesariamente es una matriz *sparse*. Esto se debe a que la matriz $\\mathbf{v}_1\\mathbf{v}_1^T$ no necesariamente es *sparse* y al restarse con $A$, esta propiedad puede perderse.\n",
    "\n",
    "A pesar de lo anterior, una propiedad importante de *Power Iteration* es que no opera direcamente sobre la matriz, si no que solo es requerida a través del producto **matriz-vector**. Notar que si se desea calcular $A_1\\mathbf{u}$, donde $\\mathbf{u}$ es un vector arbitrario, puede calcularse como\n",
    "\n",
    "$$\n",
    "    A_1\\mathbf{u} \n",
    "    = \\left(A - \\lambda_1\\mathbf{v}_1\\,\\mathbf{v}_1^T\\right)\\mathbf{u}\n",
    "    = A\\mathbf{u} - \\lambda_1 \\mathbf{v}_1 \\left(\\mathbf{v}_1^T\\mathbf{u}\\right).\n",
    "$$\n",
    "\n",
    "De esta manera, no es necesario construir explícitamente la matriz $\\mathbf{v}_1\\mathbf{v}_1^T$. De manera general, la matriz $A_i\\mathbf{u}$ puede calcularse como\n",
    "\n",
    "$$\n",
    "    A_i\\mathbf{u} = A\\mathbf{u} - \\sum_{k = 1}^{i}\\lambda_k \\left( \\mathbf{v}_k^T\\mathbf{u} \\right) \\mathbf{v}_k.\n",
    "$$\n",
    "\n",
    "Implemente la función `A_times_vector` que reciba como parámetros: \n",
    "\n",
    "* Una matriz de tipo *sparse*.\n",
    "* Un entero $k$.\n",
    "* Una lista con $k$ valores propios.\n",
    "* Una lista con $k$ vectores propios.\n",
    "* Un vector $\\mathbf{u}$, arbitrario.\n",
    "\n",
    "La función debe retornar el resultado numérico del producto matriz-vector $A_{k}\\mathbf{u}$."
   ]
  },
  {
   "cell_type": "code",
   "execution_count": 5,
   "metadata": {},
   "outputs": [],
   "source": [
    "'''\n",
    "Implementation of a Deflation matriz-vector product to avoid building non-sparse matrix\n",
    "Input:\n",
    "A - (N x N matrix) A matrix in a sparse format.\n",
    "k - (integer) An integer.\n",
    "k_eig_values - (list) A list with k eigenvalues of A.\n",
    "k_eig_vectors - (list) A list with k eigenvectors of A.\n",
    "u - (array) An arbitrary vector\n",
    "Output:\n",
    "b - (array) The result of a Deflation matrix times u, using the given eigenvalues and eigenvectors.\n",
    "'''\n",
    "def A_times_vector(A_k, k, k_eig_values, k_eig_vectors, u):\n",
    "    sum_ = 0\n",
    "    for i in range(k):\n",
    "        lambd_k = k_eig_values[i]\n",
    "        v_k = k_eig_vectors[i]\n",
    "        temp = np.dot(v_k.transpose(),u)\n",
    "        temp = temp * v_k\n",
    "        sum_ = sum_ + (lambd_k * temp) \n",
    "    b = (A_k * u) - sum_\n",
    "    return b"
   ]
  },
  {
   "cell_type": "markdown",
   "metadata": {},
   "source": [
    "**3. (30 puntos)** Implemente la función `sparse_deflation`, modificando su implementación inicial de *Deflation*, que permita operar sobre matrices de gran dimenensión y que sean *sparse*. Para esto, utilice la implementación realizada de la función `A_times_vector` en combinación con el algoritmo de *Power Iteration*. La función `sparse_deflation` recibe como parámetros:\n",
    "* La matriz $A$ de tipo *sparse*.\n",
    "* El *initial guess* $\\mathbf{x}_0$.\n",
    "* El número de iteraciones a realizar en *Power Iteration*\n",
    "* Un número $T$ que indique el número de valores y vectores propios que se desean obtener de la matriz $A$."
   ]
  },
  {
   "cell_type": "code",
   "execution_count": 7,
   "metadata": {},
   "outputs": [
    {
     "ename": "FileNotFoundError",
     "evalue": "[Errno 2] No such file or directory: 'matrix_10000.txt'",
     "output_type": "error",
     "traceback": [
      "\u001b[1;31m---------------------------------------------------------------------------\u001b[0m",
      "\u001b[1;31mFileNotFoundError\u001b[0m                         Traceback (most recent call last)",
      "\u001b[1;32m<ipython-input-7-cb466cff8bde>\u001b[0m in \u001b[0;36m<module>\u001b[1;34m\u001b[0m\n\u001b[0;32m     60\u001b[0m \u001b[1;31m#validamos que el algoritmo hace lo que debe haber obteniendo los primeros 10 valores propios\u001b[0m\u001b[1;33m\u001b[0m\u001b[1;33m\u001b[0m\u001b[1;33m\u001b[0m\u001b[0m\n\u001b[0;32m     61\u001b[0m \u001b[1;31m#de la matriz de 10000x10000\u001b[0m\u001b[1;33m\u001b[0m\u001b[1;33m\u001b[0m\u001b[1;33m\u001b[0m\u001b[0m\n\u001b[1;32m---> 62\u001b[1;33m \u001b[0mmatrix_10000\u001b[0m \u001b[1;33m=\u001b[0m \u001b[0mread_sparse_matrix\u001b[0m\u001b[1;33m(\u001b[0m\u001b[1;34m\"matrix_10000.txt\"\u001b[0m\u001b[1;33m)\u001b[0m\u001b[1;33m\u001b[0m\u001b[1;33m\u001b[0m\u001b[0m\n\u001b[0m\u001b[0;32m     63\u001b[0m \u001b[0mit\u001b[0m \u001b[1;33m=\u001b[0m \u001b[1;36m200\u001b[0m\u001b[1;33m\u001b[0m\u001b[1;33m\u001b[0m\u001b[0m\n\u001b[0;32m     64\u001b[0m \u001b[1;31m#primer caso\u001b[0m\u001b[1;33m\u001b[0m\u001b[1;33m\u001b[0m\u001b[1;33m\u001b[0m\u001b[0m\n",
      "\u001b[1;32m<ipython-input-4-d7c45cd8952d>\u001b[0m in \u001b[0;36mread_sparse_matrix\u001b[1;34m(path)\u001b[0m\n\u001b[0;32m      8\u001b[0m \u001b[1;32mdef\u001b[0m \u001b[0mread_sparse_matrix\u001b[0m\u001b[1;33m(\u001b[0m\u001b[0mpath\u001b[0m\u001b[1;33m)\u001b[0m\u001b[1;33m:\u001b[0m\u001b[1;33m\u001b[0m\u001b[1;33m\u001b[0m\u001b[0m\n\u001b[0;32m      9\u001b[0m     \u001b[0mverbose\u001b[0m \u001b[1;33m=\u001b[0m \u001b[1;32mFalse\u001b[0m\u001b[1;33m\u001b[0m\u001b[1;33m\u001b[0m\u001b[0m\n\u001b[1;32m---> 10\u001b[1;33m     \u001b[0mf\u001b[0m \u001b[1;33m=\u001b[0m \u001b[0mopen\u001b[0m\u001b[1;33m(\u001b[0m\u001b[0mpath\u001b[0m\u001b[1;33m,\u001b[0m \u001b[1;34m\"r\"\u001b[0m\u001b[1;33m)\u001b[0m\u001b[1;33m\u001b[0m\u001b[1;33m\u001b[0m\u001b[0m\n\u001b[0m\u001b[0;32m     11\u001b[0m     \u001b[1;31m#obtenemos el tamaño de la matriz\u001b[0m\u001b[1;33m\u001b[0m\u001b[1;33m\u001b[0m\u001b[1;33m\u001b[0m\u001b[0m\n\u001b[0;32m     12\u001b[0m     \u001b[0mN\u001b[0m \u001b[1;33m=\u001b[0m \u001b[0mint\u001b[0m\u001b[1;33m(\u001b[0m\u001b[0mf\u001b[0m\u001b[1;33m.\u001b[0m\u001b[0mreadline\u001b[0m\u001b[1;33m(\u001b[0m\u001b[1;33m)\u001b[0m\u001b[1;33m)\u001b[0m\u001b[1;33m\u001b[0m\u001b[1;33m\u001b[0m\u001b[0m\n",
      "\u001b[1;31mFileNotFoundError\u001b[0m: [Errno 2] No such file or directory: 'matrix_10000.txt'"
     ]
    }
   ],
   "source": [
    "'''\n",
    "modified version of power iteration, to take into consideration that we \n",
    "dont have A, but A*u\n",
    "'''\n",
    "def power_iteration_sparse(myfun, A, x, it, k, k_eig_values, k_eig_vectors, verbose=False):\n",
    "    if verbose: print(\"Power Iteration Method\\n%s\"%('='*80))\n",
    "    for j in range(it):\n",
    "        u = x/norm(x)\n",
    "        x = myfun(A, k, k_eig_values,k_eig_vectors, u)\n",
    "        lam = np.dot(u,x) #not really necessary to compute it at each iteration\n",
    "        if verbose: print(\"k=%d, lambda=%+.3f, u=%s\"%(j,lam,str(u.T)))\n",
    "    u = x/norm(x)\n",
    "    if verbose: print(\"k=%d, lambda=%+.3f, u=%s\\n\"%(j+1,lam,str(u.T)))\n",
    "    return lam, u\n",
    "\n",
    "def power_iteration1(A, x, k, verbose=False):\n",
    "    if verbose: print(\"Power Iteration Method\\n%s\"%('='*80))\n",
    "    for j in range(k):\n",
    "        u = x/norm(x)\n",
    "        x = A * u\n",
    "        lam = np.dot(u, x)\n",
    "        if verbose: print(\"k=%d, lambda=%+.3f, u=%s\"%(j,lam,str(u.T)))\n",
    "    u = x/norm(x)\n",
    "    if verbose: print(\"k=%d, lambda=%+.3f, u=%s\\n\"%(j+1,lam,str(u.T)))\n",
    "    return lam, u \n",
    "\n",
    "'''\n",
    "Compute T eigenvalues and eigenvectors from the sparse matrix A, using Deflation.\n",
    "Input:\n",
    "A - (n x n matrix) Sparse matrix\n",
    "x0 - (array) Initial guess for Power Iteration\n",
    "it - (integer) Number of iterations for Power Iteration\n",
    "T - (integer) Number of eigenvalues and eigenvectors to compute from A\n",
    "Output:\n",
    "eig_values - (list) List of T eigenvalues found by the algorithm\n",
    "eig_vectors - (list) List of T eigenvectors found by the algorithm\n",
    "'''\n",
    "def sparse_deflation(A, x0, it, T):\n",
    "    #variables para ir almacenando eigenvalues y eigenvectors\n",
    "    eig_values = []\n",
    "    eig_vectors = []\n",
    "    #calculamos el primer valor propio dominante\n",
    "    eig_value_, eig_vector_ = power_iteration1(A, x0, it, verbose=False)\n",
    "    eig_values.append(eig_value_)\n",
    "    eig_vectors.append(eig_vector_)\n",
    "    #obtendremos hasta el T valor propio\n",
    "    for k in range(T):\n",
    "        if k > 0:\n",
    "            #utilizamos power iteration para\n",
    "            eig_value_, eig_vector_ = power_iteration_sparse(A_times_vector, A, x0, it, k, eig_values, eig_vectors, verbose=False)\n",
    "            eig_values.append(eig_value_)\n",
    "            eig_vectors.append(eig_vector_)\n",
    "        #no hay necesidad de estos calculos, ya que son realizados en la funcion A_times_vector\n",
    "        #lambd_i = eig_value_\n",
    "        #v_i = eig_vector_\n",
    "        #aux = np.outer(np.dot(lambd_i,v_i), np.transpose(v_i))\n",
    "        #A_i = A_i - aux\n",
    "    return eig_values, eig_vectors\n",
    "\n",
    "#validamos que el algoritmo hace lo que debe haber obteniendo los primeros 10 valores propios\n",
    "#de la matriz de 10000x10000\n",
    "matrix_10000 = read_sparse_matrix(\"matrix_10000.txt\")\n",
    "it = 200\n",
    "#primer caso\n",
    "T = 10\n",
    "x0 = np.ones(10000)\n",
    "eigenvalues_sp_scipy, eigenvectors_sp_defl = eigs(matrix_10000, k=10)\n",
    "print(\"eigenvalues_sp_numpy:{}\".format(eigenvalues_sp_scipy))\n",
    "eigenvalues_sp_defl, eigenvectors_sp_defl = sparse_deflation(matrix_10000, x0, it, T)\n",
    "print(\"eigenvalues_sp_defl:{}\".format(eigenvalues_sp_defl))"
   ]
  },
  {
   "cell_type": "code",
   "execution_count": null,
   "metadata": {},
   "outputs": [],
   "source": []
  }
 ],
 "metadata": {
  "colab": {
   "collapsed_sections": [],
   "name": "Tarea4.ipynb",
   "provenance": [],
   "version": "0.3.2"
  },
  "kernelspec": {
   "display_name": "Python 3",
   "language": "python",
   "name": "python3"
  },
  "language_info": {
   "codemirror_mode": {
    "name": "ipython",
    "version": 3
   },
   "file_extension": ".py",
   "mimetype": "text/x-python",
   "name": "python",
   "nbconvert_exporter": "python",
   "pygments_lexer": "ipython3",
   "version": "3.7.1"
  }
 },
 "nbformat": 4,
 "nbformat_minor": 1
}
